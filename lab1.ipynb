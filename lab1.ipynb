{
 "cells": [
  {
   "cell_type": "markdown",
   "id": "fdeff819",
   "metadata": {},
   "source": [
    "# Sinh Viên thực hiện Lab 1 ở Đây"
   ]
  },
  {
   "cell_type": "markdown",
   "id": "acc5d7dc",
   "metadata": {},
   "source": [
    "## Lab 1 - Bài 1"
   ]
  },
  {
   "cell_type": "code",
   "execution_count": 4,
   "id": "001e0507",
   "metadata": {},
   "outputs": [
    {
     "name": "stdout",
     "output_type": "stream",
     "text": [
      "Xin Chao!\n",
      "Toi ten Doan Thuc Dinh.\n",
      "Toi den tu Nha Trang.\n"
     ]
    }
   ],
   "source": [
    "# Code lab 1 bài 1 ở đây\n",
    "print(\"Xin Chao!\")\n",
    "print(\"Toi ten Doan Thuc Dinh.\")\n",
    "print(\"Toi den tu Nha Trang.\")"
   ]
  },
  {
   "cell_type": "markdown",
   "id": "c0835310",
   "metadata": {},
   "source": [
    "## Lab 1 - Bài 2"
   ]
  },
  {
   "cell_type": "code",
   "execution_count": 5,
   "id": "fa9cb39f",
   "metadata": {},
   "outputs": [
    {
     "name": "stdout",
     "output_type": "stream",
     "text": [
      "Chu vi hinh chu nhat là: 36.0\n",
      "Dien tich hinh chu nhat: 80.0\n"
     ]
    }
   ],
   "source": [
    "# Code lab 1  bài 2 ở đây\n",
    "dai = float(input(\"Chieu dai: \"))\n",
    "rong = float(input(\"Chieu rong: \"))\n",
    "chu_vi = (dai + rong) * 2\n",
    "dien_tich = dai * rong\n",
    "print(\"Chu vi hinh chu nhat là:\", chu_vi)\n",
    "print(\"Dien tich hinh chu nhat:\", dien_tich)\n"
   ]
  },
  {
   "cell_type": "markdown",
   "id": "0f2483fe",
   "metadata": {},
   "source": [
    "## Lab 1 - Bài 3"
   ]
  },
  {
   "cell_type": "code",
   "execution_count": 6,
   "id": "7034990b",
   "metadata": {},
   "outputs": [
    {
     "name": "stdout",
     "output_type": "stream",
     "text": [
      "\"...\n",
      "Sống không giận, không hờn không oán trách\n",
      "Sống mỉm cười, với thử thách chông gai\n",
      "Sống vươn lên, theo kịp ánh ban mai\n",
      "Sống chan hòa, với những người chung sống.\n",
      "\n",
      "Sống là động, nhưng lòng luôn bất động\n",
      "Sống là thương, nhưng lòng chẳng vấn vương\n",
      "Sống yên vui, danh lợi mãi coi thường\n",
      "Tâm bất biến, giữa dòng đời vạn biến.\n",
      "...\"\n"
     ]
    }
   ],
   "source": [
    "# Code lab 1  bài 3 ở đây\n",
    "print('\"...')\n",
    "print(\"Sống không giận, không hờn không oán trách\")\n",
    "print(\"Sống mỉm cười, với thử thách chông gai\")\n",
    "print(\"Sống vươn lên, theo kịp ánh ban mai\")\n",
    "print(\"Sống chan hòa, với những người chung sống.\")\n",
    "\n",
    "print()  # khoảng trống\n",
    "\n",
    "print(\"Sống là động, nhưng lòng luôn bất động\")\n",
    "print(\"Sống là thương, nhưng lòng chẳng vấn vương\")\n",
    "print(\"Sống yên vui, danh lợi mãi coi thường\")\n",
    "print(\"Tâm bất biến, giữa dòng đời vạn biến.\")\n",
    "print('...\"')"
   ]
  },
  {
   "cell_type": "markdown",
   "id": "d36ea3d3",
   "metadata": {},
   "source": [
    "## Lab 1 - Bài 4"
   ]
  },
  {
   "cell_type": "code",
   "execution_count": 11,
   "id": "4c707ec1",
   "metadata": {},
   "outputs": [
    {
     "name": "stdout",
     "output_type": "stream",
     "text": [
      "Delta = 9\n",
      "Căn delta = 3.0\n"
     ]
    }
   ],
   "source": [
    "# code lab 1 bài 4 ở đây\n",
    "import math\n",
    "\n",
    "a = 2\n",
    "b = 5\n",
    "c = 2\n",
    "\n",
    "delta = b * b - 4 * a * c\n",
    "can_delta = math.sqrt(delta)\n",
    "\n",
    "print(\"Delta =\", delta)\n",
    "print(\"Căn delta =\", can_delta)"
   ]
  },
  {
   "cell_type": "markdown",
   "id": "e2b41d4a",
   "metadata": {},
   "source": [
    "## Lab 1 - Bài 5: bài tập làm thêm"
   ]
  },
  {
   "cell_type": "code",
   "execution_count": null,
   "id": "0e0172f7",
   "metadata": {},
   "outputs": [],
   "source": [
    "# code lab 1  bài làm thêm ở đây "
   ]
  }
 ],
 "metadata": {
  "kernelspec": {
   "display_name": "Python 3",
   "language": "python",
   "name": "python3"
  },
  "language_info": {
   "codemirror_mode": {
    "name": "ipython",
    "version": 3
   },
   "file_extension": ".py",
   "mimetype": "text/x-python",
   "name": "python",
   "nbconvert_exporter": "python",
   "pygments_lexer": "ipython3",
   "version": "3.13.7"
  }
 },
 "nbformat": 4,
 "nbformat_minor": 5
}

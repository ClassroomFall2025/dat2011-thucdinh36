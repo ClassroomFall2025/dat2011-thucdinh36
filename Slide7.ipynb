{
 "cells": [
  {
   "cell_type": "code",
   "execution_count": 10,
   "id": "f7d1eed8",
   "metadata": {},
   "outputs": [
    {
     "name": "stdout",
     "output_type": "stream",
     "text": [
      "Tự nguyện\n",
      "Trương Quốc Khánh\n",
      "Nếu là chim, tôi sẽ là loài bồ câu trắng\n",
      "Nếu là hoa, tôi sẽ là một đóa hướng dương\n",
      "Nếu là mây, tôi sẽ là một vầng mây ấm\n",
      "Là người, tôi sẽ chết cho quê hương.\n",
      "\n",
      "Là chim, tôi sẽ cất cao đôi cánh mềm\n",
      "Từ nam ra ngoài bắc báo tin nối liền\n",
      "Là hoa, tôi nở tình yêu ban sớm\n",
      "Cùng muôn trái tim ngất ngây hoà bình.\n",
      "\n",
      "Là mây, theo làn gió tung bay khắp trời\n",
      "Nghìn xưa oai hùng đó tôi xin tiếp lời\n",
      "Là người, xin một lần khi nằm xuống\n",
      "Nhìn anh em đứng lên phất cao ngọn cờ.\n"
     ]
    }
   ],
   "source": [
    "# đọc file baitho.txt\n",
    "\n",
    "file = open(\"Resource.txt\", \"r\", encoding=\"utf-8\")\n",
    "noidung = file.read()\n",
    "print(noidung)\n",
    "# file.close()"
   ]
  },
  {
   "cell_type": "markdown",
   "id": "8d291cb8",
   "metadata": {},
   "source": [
    "### dùng phương thức read()"
   ]
  },
  {
   "cell_type": "code",
   "execution_count": null,
   "id": "da84af24",
   "metadata": {},
   "outputs": [
    {
     "name": "stdout",
     "output_type": "stream",
     "text": [
      "Tự nguyện\n",
      "\n"
     ]
    }
   ],
   "source": [
    "# đọc từng dòng\n",
    "\n",
    "file = open(\"Resource.txt\", \"r\", encoding=\"utf-8\")\n",
    "dong = file.readline()\n",
    "print(dong)\n",
    "file.close()"
   ]
  },
  {
   "cell_type": "code",
   "execution_count": 12,
   "id": "1c905623",
   "metadata": {},
   "outputs": [
    {
     "name": "stdout",
     "output_type": "stream",
     "text": [
      "['Tự nguyện\\n', 'Trương Quốc Khánh\\n', 'Nếu là chim, tôi sẽ là loài bồ câu trắng\\n', 'Nếu là hoa, tôi sẽ là một đóa hướng dương\\n', 'Nếu là mây, tôi sẽ là một vầng mây ấm\\n', 'Là người, tôi sẽ chết cho quê hương.\\n', '\\n', 'Là chim, tôi sẽ cất cao đôi cánh mềm\\n', 'Từ nam ra ngoài bắc báo tin nối liền\\n', 'Là hoa, tôi nở tình yêu ban sớm\\n', 'Cùng muôn trái tim ngất ngây hoà bình.\\n', '\\n', 'Là mây, theo làn gió tung bay khắp trời\\n', 'Nghìn xưa oai hùng đó tôi xin tiếp lời\\n', 'Là người, xin một lần khi nằm xuống\\n', 'Nhìn anh em đứng lên phất cao ngọn cờ.']\n"
     ]
    }
   ],
   "source": [
    "file = open(\"Resource.txt\", \"r\", encoding=\"utf-8\")\n",
    "dong = file.readlines()\n",
    "print(dong)"
   ]
  },
  {
   "cell_type": "code",
   "execution_count": 7,
   "id": "7d211b8a",
   "metadata": {},
   "outputs": [
    {
     "name": "stdout",
     "output_type": "stream",
     "text": [
      "Tự nguyện\n",
      "Trương Quốc Khánh\n",
      "Nếu là chim, tôi sẽ là loài bồ câu trắng\n",
      "Nếu là hoa, tôi sẽ là một đóa hướng dương\n",
      "Nếu là mây, tôi sẽ là một vầng mây ấm\n",
      "Là người, tôi sẽ chết cho quê hương.\n",
      "\n",
      "Là chim, tôi sẽ cất cao đôi cánh mềm\n",
      "Từ nam ra ngoài bắc báo tin nối liền\n",
      "Là hoa, tôi nở tình yêu ban sớm\n",
      "Cùng muôn trái tim ngất ngây hoà bình.\n",
      "\n",
      "Là mây, theo làn gió tung bay khắp trời\n",
      "Nghìn xưa oai hùng đó tôi xin tiếp lời\n",
      "Là người, xin một lần khi nằm xuống\n",
      "Nhìn anh em đứng lên phất cao ngọn cờ.\n"
     ]
    }
   ],
   "source": [
    "with open(\"Resource.txt\", \"r\", encoding=\"utf-8\") as file:\n",
    "    noidung = file.read()\n",
    "    print(noidung)"
   ]
  },
  {
   "cell_type": "markdown",
   "id": "24c50cd1",
   "metadata": {},
   "source": [
    "### dùng phương thức readlines()"
   ]
  },
  {
   "cell_type": "code",
   "execution_count": 22,
   "id": "5037664d",
   "metadata": {},
   "outputs": [
    {
     "name": "stdout",
     "output_type": "stream",
     "text": [
      "Trương Quốc Khánh\n",
      "\n"
     ]
    }
   ],
   "source": [
    "with open(\"Resource.txt\", \"r\", encoding=\"utf-8\") as file:\n",
    "    dong = file.readlines()\n",
    "    print(dong[1])\n",
    "   "
   ]
  },
  {
   "cell_type": "code",
   "execution_count": 14,
   "id": "11d67875",
   "metadata": {},
   "outputs": [
    {
     "name": "stdout",
     "output_type": "stream",
     "text": [
      "Tự nguyện\n",
      "Trương Quốc Khánh\n",
      "Nếu là chim, tôi sẽ là loài bồ câu trắng\n",
      "Nếu là hoa, tôi sẽ là một đóa hướng dương\n",
      "Nếu là mây, tôi sẽ là một vầng mây ấm\n",
      "Là người, tôi sẽ chết cho quê hương.\n",
      "\n",
      "Là chim, tôi sẽ cất cao đôi cánh mềm\n",
      "Từ nam ra ngoài bắc báo tin nối liền\n",
      "Là hoa, tôi nở tình yêu ban sớm\n",
      "Cùng muôn trái tim ngất ngây hoà bình.\n",
      "\n",
      "Là mây, theo làn gió tung bay khắp trời\n",
      "Nghìn xưa oai hùng đó tôi xin tiếp lời\n",
      "Là người, xin một lần khi nằm xuống\n",
      "Nhìn anh em đứng lên phất cao ngọn cờ."
     ]
    }
   ],
   "source": [
    "with open(\"Resource.txt\", \"r\", encoding=\"utf-8\") as file:\n",
    "    for line in file:\n",
    "        print(line, end=\"\")"
   ]
  },
  {
   "cell_type": "code",
   "execution_count": 15,
   "id": "3d79a3a8",
   "metadata": {},
   "outputs": [
    {
     "name": "stdout",
     "output_type": "stream",
     "text": [
      "Tự nguyện\n",
      "Trương Quốc Khánh\n",
      "Nếu là chim, tôi sẽ là loài bồ câu trắng\n",
      "Nếu là hoa, tôi sẽ là một đóa hướng dương\n",
      "Nếu là mây, tôi sẽ là một vầng mây ấm\n",
      "Là người, tôi sẽ chết cho quê hương.\n",
      "\n",
      "Là chim, tôi sẽ cất cao đôi cánh mềm\n",
      "Từ nam ra ngoài bắc báo tin nối liền\n",
      "Là hoa, tôi nở tình yêu ban sớm\n",
      "Cùng muôn trái tim ngất ngây hoà bình.\n",
      "\n",
      "Là mây, theo làn gió tung bay khắp trời\n",
      "Nghìn xưa oai hùng đó tôi xin tiếp lời\n",
      "Là người, xin một lần khi nằm xuống\n",
      "Nhìn anh em đứng lên phất cao ngọn cờ.\n"
     ]
    }
   ],
   "source": [
    "with open(\"Resource.txt\", \"r\",encoding=\"utf-8\") as file:\n",
    "    for line in file:\n",
    "        print(line.strip())  # Xóa ký tự xuống dòng và khoảng trắng thừa"
   ]
  },
  {
   "cell_type": "markdown",
   "id": "60788b55",
   "metadata": {},
   "source": [
    "### đọc từng dòng readline()"
   ]
  },
  {
   "cell_type": "code",
   "execution_count": 12,
   "id": "f2bc98ad",
   "metadata": {},
   "outputs": [
    {
     "name": "stdout",
     "output_type": "stream",
     "text": [
      "dòng thứ nhất: Kiếp con người mỏng manh như là gió\n"
     ]
    }
   ],
   "source": [
    "# đọc một dòng\n",
    "with open(\"baitho.txt\", \"r\", encoding=\"utf-8\") as file:\n",
    "    first_line = file.readline()\n",
    "    print(\"dòng thứ nhất:\",first_line.strip())"
   ]
  },
  {
   "cell_type": "code",
   "execution_count": 16,
   "id": "a3eb5905",
   "metadata": {},
   "outputs": [
    {
     "name": "stdout",
     "output_type": "stream",
     "text": [
      "Dòng 1: Tự nguyện\n",
      "Dòng 2: Trương Quốc Khánh\n",
      "Dòng 3: Nếu là chim, tôi sẽ là loài bồ câu trắng\n",
      "Dòng 4: Nếu là hoa, tôi sẽ là một đóa hướng dương\n",
      "Dòng 5: Nếu là mây, tôi sẽ là một vầng mây ấm\n",
      "Dòng 6: Là người, tôi sẽ chết cho quê hương.\n",
      "Dòng 7: \n",
      "Dòng 8: Là chim, tôi sẽ cất cao đôi cánh mềm\n",
      "Dòng 9: Từ nam ra ngoài bắc báo tin nối liền\n",
      "Dòng 10: Là hoa, tôi nở tình yêu ban sớm\n",
      "Dòng 11: Cùng muôn trái tim ngất ngây hoà bình.\n",
      "Dòng 12: \n",
      "Dòng 13: Là mây, theo làn gió tung bay khắp trời\n",
      "Dòng 14: Nghìn xưa oai hùng đó tôi xin tiếp lời\n",
      "Dòng 15: Là người, xin một lần khi nằm xuống\n",
      "Dòng 16: Nhìn anh em đứng lên phất cao ngọn cờ.\n"
     ]
    }
   ],
   "source": [
    "# đọc từng dòng một và đếm số dòng\n",
    "with open(\"Resource.txt\", \"r\", encoding=\"utf-8\") as file:\n",
    "    count = 0\n",
    "    for line in file:\n",
    "        count += 1\n",
    "        print(f\"Dòng {count}: {line.strip()}\")"
   ]
  },
  {
   "cell_type": "markdown",
   "id": "cdccee4b",
   "metadata": {},
   "source": [
    "## ghi vào file"
   ]
  },
  {
   "cell_type": "markdown",
   "id": "d99da98c",
   "metadata": {},
   "source": [
    "### ghi đè nội dung cũ"
   ]
  },
  {
   "cell_type": "markdown",
   "id": "a836e46c",
   "metadata": {},
   "source": [
    "### khi open file  vói mode = \"w' xóa sạch nội dung cũ\n",
    "### khi dùng file.read() -> lỗi"
   ]
  },
  {
   "cell_type": "code",
   "execution_count": 21,
   "id": "4c0c4472",
   "metadata": {},
   "outputs": [],
   "source": [
    "file = open(\"Resource4.txt\", \"a\", encoding=\"utf-8\") \n",
    "\n",
    "file.write(\"Đây là dòng thứ 6.\\n\")\n",
    "file.write(\"Đây là dòng thứ 7.\\n\")\n",
    "file.close()\n"
   ]
  },
  {
   "cell_type": "code",
   "execution_count": 5,
   "id": "1154a2fa",
   "metadata": {},
   "outputs": [
    {
     "name": "stdout",
     "output_type": "stream",
     "text": [
      "Đây là dòng đầu tiên.\n",
      "Đây là dòng thứ hai.\n",
      "Đây là dòng thứ ba.\n",
      "\n"
     ]
    }
   ],
   "source": [
    "file = open(\"Resource2.txt\", \"w\", encoding=\"utf-8\") \n",
    "file.write(\"Đây là dòng đầu tiên.\\n\")\n",
    "file.write(\"Đây là dòng thứ hai.\\n\")\n",
    "file.write(\"Đây là dòng thứ ba.\\n\")\n",
    "file.close()\n",
    "file = open(\"Resource2.txt\", \"r\", encoding=\"utf-8\") \n",
    "noidung = file.read()\n",
    "print(noidung)"
   ]
  },
  {
   "cell_type": "code",
   "execution_count": 6,
   "id": "8bf45f68",
   "metadata": {},
   "outputs": [
    {
     "name": "stdout",
     "output_type": "stream",
     "text": [
      "Đây là dòng đầu tiên.\n",
      "Đây là dòng thứ hai.\n",
      "Đây là dòng thứ ba.\n",
      "Đây là dòng số 4.\n",
      "\n"
     ]
    }
   ],
   "source": [
    "file = open(\"Resource2.txt\", \"a\", encoding=\"utf-8\")\n",
    "file.write(\"Đây là dòng số 4.\\n\")\n",
    "file.close()\n",
    "file = open(\"Resource2.txt\", \"r\", encoding=\"utf-8\") \n",
    "noidung = file.read()\n",
    "print(noidung)"
   ]
  },
  {
   "cell_type": "code",
   "execution_count": 2,
   "id": "bd89eb4b",
   "metadata": {},
   "outputs": [
    {
     "name": "stdout",
     "output_type": "stream",
     "text": [
      "Tự nguyện\n",
      "Trương Quốc Khánh\n",
      "Nếu là chim, tôi sẽ là loài bồ câu trắng\n",
      "Nếu là hoa, tôi sẽ là một đóa hướng dương\n",
      "Nếu là mây, tôi sẽ là một vầng mây ấm\n",
      "Là người, tôi sẽ chết cho quê hương.\n",
      "\n",
      "Là chim, tôi sẽ cất cao đôi cánh mềm\n",
      "Từ nam ra ngoài bắc báo tin nối liền\n",
      "Là hoa, tôi nở tình yêu ban sớm\n",
      "Cùng muôn trái tim ngất ngây hoà bình.\n",
      "\n",
      "Là mây, theo làn gió tung bay khắp trời\n",
      "Nghìn xưa oai hùng đó tôi xin tiếp lời\n",
      "Là người, xin một lần khi nằm xuống\n",
      "Nhìn anh em đứng lên phất cao ngọn cờ.\n"
     ]
    }
   ],
   "source": [
    "file = open(\"Resource.txt\", \"a+\", encoding=\"utf-8\")\n",
    "file = open(\"Resource.txt\", \"r\", encoding=\"utf-8\")\n",
    "noidung = file.read()\n",
    "print(noidung)\n"
   ]
  },
  {
   "cell_type": "code",
   "execution_count": null,
   "id": "d075d974",
   "metadata": {},
   "outputs": [],
   "source": [
    "file = open(\"baitho2.txt\", \"a+\", encoding=\"utf-8\")\n",
    "file.seek(0)  # Di chuyển con trỏ về đầu file để đọc từ đầu\n",
    "noidung = file.read()\n",
    "print(noidung)"
   ]
  },
  {
   "cell_type": "code",
   "execution_count": null,
   "id": "5984e169",
   "metadata": {},
   "outputs": [],
   "source": [
    "with open(\"baitho4.txt\", \"a+\", encoding=\"utf-8\") as file:\n",
    "    file.write(\"\")\n",
    "    file.write(\"\\nChốn dương gian chẳng qua là tạm bợ\\n\")\n",
    "    file.write(\"Tiệc tàn rồi cũng trở lại hư vô\\n\")\n",
    "    file.write(\"Hãy giữ gìn trân trọng mến thương nhau\\n\")\n",
    "    file.write(\"Vì thời gian chẳng thể nào quay lại...\\n\")\n",
    "    file.seek(0)    \n",
    "    \n",
    "    print(file.read())"
   ]
  },
  {
   "cell_type": "code",
   "execution_count": 13,
   "id": "c11e21c2",
   "metadata": {},
   "outputs": [
    {
     "name": "stdout",
     "output_type": "stream",
     "text": [
      "Số dòng: 3\n",
      "Số từ: 18\n"
     ]
    }
   ],
   "source": [
    "with open(\"vanban.txt\", \"w\", encoding=\"utf-8\") as file:\n",
    "    file.write(\"Python là ngôn ngữ lập trình tuyệt vời\\n\")\n",
    "    file.write(\"Python dễ học và dễ sử dụng\\n\")\n",
    "    file.write(\"Tôi yêu Python\\n\")\n",
    "\n",
    "# Đọc và đếm\n",
    "with open(\"vanban.txt\", \"r\", encoding=\"utf-8\") as file:\n",
    "    cac_dong = file.readlines()\n",
    "    so_dong = len(cac_dong)\n",
    "    so_tu = sum(len(dong.split()) for dong in cac_dong)\n",
    "    \n",
    "print(f\"Số dòng: {so_dong}\")\n",
    "print(f\"Số từ: {so_tu}\")"
   ]
  },
  {
   "cell_type": "code",
   "execution_count": 14,
   "id": "8723e2c4",
   "metadata": {},
   "outputs": [
    {
     "name": "stdout",
     "output_type": "stream",
     "text": [
      " Copy file thành công!\n"
     ]
    }
   ],
   "source": [
    "# Copy từ file này sang file khác\n",
    "with open(\"nguon.txt\", \"r\", encoding=\"utf-8\") as file_doc:\n",
    "    noi_dung = file_doc.read()\n",
    "\n",
    "with open(\"dich.txt\", \"w\", encoding=\"utf-8\") as file_ghi:\n",
    "    file_ghi.write(noi_dung)\n",
    "\n",
    "print(\" Copy file thành công!\")"
   ]
  },
  {
   "cell_type": "code",
   "execution_count": 15,
   "id": "4ecaabc0",
   "metadata": {},
   "outputs": [
    {
     "name": "stdout",
     "output_type": "stream",
     "text": [
      " Đã thay thế và lưu vào file mới!\n"
     ]
    }
   ],
   "source": [
    "# Tìm và thay thế từ trong file\n",
    "with open(\"vanban.txt\", \"r\", encoding=\"utf-8\") as file:\n",
    "    noi_dung = file.read()\n",
    "\n",
    "# Thay thế \"Python\" bằng \"Java\"\n",
    "noi_dung_moi = noi_dung.replace(\"Python\", \"Java\")\n",
    "\n",
    "with open(\"vanban_moi.txt\", \"w\", encoding=\"utf-8\") as file:\n",
    "    file.write(noi_dung_moi)\n",
    "\n",
    "print(\" Đã thay thế và lưu vào file mới!\")"
   ]
  },
  {
   "cell_type": "code",
   "execution_count": null,
   "id": "fbb431f4",
   "metadata": {},
   "outputs": [],
   "source": [
    "with open(r\"E:\\PyThon_PC\\baitho.txt\", \"r\", encoding=\"utf-8\") as file:\n",
    "    noidung = file.read()\n",
    "    print(noidung)  "
   ]
  },
  {
   "cell_type": "code",
   "execution_count": null,
   "id": "616d52da",
   "metadata": {},
   "outputs": [],
   "source": [
    "with open(\"E:\\\\PyThon_PC\\\\baitho.txt\", \"r\", encoding=\"utf-8\") as file:\n",
    "    noidung = file.read()\n",
    "    print(noidung)  "
   ]
  },
  {
   "cell_type": "markdown",
   "id": "b245d451",
   "metadata": {},
   "source": [
    "### mode x"
   ]
  },
  {
   "cell_type": "code",
   "execution_count": null,
   "id": "8e01bd90",
   "metadata": {},
   "outputs": [],
   "source": [
    "file = open(\"tenmoi.txt\", \"x\", encoding=\"utf-8\")\n"
   ]
  },
  {
   "cell_type": "code",
   "execution_count": null,
   "id": "eeddba7d",
   "metadata": {},
   "outputs": [],
   "source": [
    "# mode x\n",
    "with open(\"baitho1.txt\", \"x\", encoding=\"utf-8\") as file:\n",
    "    file.write(\"Đây là dòng đầu tiên trong file mới.\\n\")\n",
    "    file.write(\"Đây là dòng thứ hai trong file mới.\\n\")\n",
    "    file.write(\"Đây là dòng thứ ba trong file mới.\\n\")\n",
    "\n",
    "file = open(\"baitho.txt\", \"r\", encoding=\"utf-8\")\n",
    "print(file.read())"
   ]
  },
  {
   "cell_type": "markdown",
   "id": "140e4313",
   "metadata": {},
   "source": [
    "## Đường dẫn tuyệt đối\n",
    "## File nằm cố định ở vị trí cụ thể trên máy"
   ]
  },
  {
   "cell_type": "code",
   "execution_count": 5,
   "id": "b31d3dfc",
   "metadata": {},
   "outputs": [
    {
     "name": "stdout",
     "output_type": "stream",
     "text": [
      "Đây là dòng đầu tiên trong file mới.\n",
      "Đây là dòng thứ hai trong file mới.\n",
      "Đây là dòng thứ ba trong file mới.\n",
      "\n"
     ]
    }
   ],
   "source": [
    "file = open(r\"D:\\FALL2025_DP20301\\DAT2011_Slide\\DAT2011\\baitho.txt\", \"r\", encoding=\"utf-8\")\n",
    "print(file.read())\n"
   ]
  },
  {
   "cell_type": "code",
   "execution_count": 4,
   "id": "437aeb90",
   "metadata": {},
   "outputs": [
    {
     "name": "stdout",
     "output_type": "stream",
     "text": [
      "\n"
     ]
    }
   ],
   "source": [
    "with open(r\"D:\\TEST\\test.txt\",\"r\",encoding='utf-8') as file:\n",
    "    print(file.read())\n"
   ]
  },
  {
   "cell_type": "markdown",
   "id": "9697702d",
   "metadata": {},
   "source": [
    "## Đường dẫn tương đối\n",
    "## File nằm trong thư mục dự án"
   ]
  },
  {
   "cell_type": "code",
   "execution_count": 9,
   "id": "3ae3b42c",
   "metadata": {},
   "outputs": [
    {
     "name": "stdout",
     "output_type": "stream",
     "text": [
      "Đây là dòng đầu tiên trong file mới.\n",
      "Đây là dòng thứ hai trong file mới.\n",
      "Đây là dòng thứ ba trong file mới.\n",
      "\n"
     ]
    }
   ],
   "source": [
    "file = open(\"Data/baitho1.txt\", \"r\", encoding=\"utf-8\")\n",
    "print(file.read())"
   ]
  },
  {
   "cell_type": "markdown",
   "id": "78a8dbd0",
   "metadata": {},
   "source": [
    "### 'r+' – vừa đọc vừa ghi (file phải tồn tại)\n",
    "###  Có thể đọc và sửa nội dung hiện có.\n",
    "###  File phải tồn tại trước, nếu không sẽ lỗi."
   ]
  },
  {
   "cell_type": "code",
   "execution_count": 11,
   "id": "275ebb5b",
   "metadata": {},
   "outputs": [
    {
     "name": "stdout",
     "output_type": "stream",
     "text": [
      "Thay thế nội dung đầu file!g thứ 6.\n",
      "Đây là dòng thứ 7.\n",
      "\n",
      "Thay thế nội dung đầu file!g thứ 6.\n",
      "Đây là dòng thứ 7.\n",
      "\n",
      "g thứ 6.\n",
      "Đây là dòng thứ 7.\n",
      "\n"
     ]
    }
   ],
   "source": [
    "with open(\"Resource4.txt\", \"r+\", encoding=\"utf-8\") as f:\n",
    "    noi_dung = f.read()\n",
    "    print(noi_dung)\n",
    "    f.seek(0)  # quay lại đầu file\n",
    "    f.write(\"Thay thế nội dung đầu file!\")\n",
    "    print(noi_dung)\n",
    "    noi_dung_moi = f.read()\n",
    "    print(noi_dung_moi)\n"
   ]
  },
  {
   "cell_type": "markdown",
   "id": "0b5ed604",
   "metadata": {},
   "source": [
    "### 'a+' – đọc và ghi nối thêm\n",
    "### Có thể đọc & ghi.\n",
    "### Khi ghi thì chỉ thêm vào cuối file, không ghi đè."
   ]
  },
  {
   "cell_type": "code",
   "execution_count": null,
   "id": "990340ea",
   "metadata": {},
   "outputs": [
    {
     "name": "stdout",
     "output_type": "stream",
     "text": [
      "Thêm dòng mới!\n",
      "\n"
     ]
    }
   ],
   "source": [
    "with open(\"Resource5.txt\", \"a+\", encoding=\"utf-8\") as f:\n",
    "    \n",
    "    f.write(\"Thêm dòng mới!\\n\")\n",
    "    f.seek(0)\n",
    "    print(f.read())  # đọc toàn bộ file"
   ]
  },
  {
   "cell_type": "markdown",
   "id": "9f8c245e",
   "metadata": {},
   "source": [
    "## module OS"
   ]
  },
  {
   "cell_type": "code",
   "execution_count": 5,
   "id": "6454680c",
   "metadata": {},
   "outputs": [
    {
     "name": "stdout",
     "output_type": "stream",
     "text": [
      "d:\\FALL2025_DP20301\\DAT2011_Slide\\DAT2011\n"
     ]
    }
   ],
   "source": [
    "# import os và kiểm tra thư mục hiện tại của file chương trình\n",
    "import os\n",
    "print(os.getcwd())  # In ra thư mục hiện tại"
   ]
  },
  {
   "cell_type": "markdown",
   "id": "a39c3d81",
   "metadata": {},
   "source": [
    "## xóa file"
   ]
  },
  {
   "cell_type": "code",
   "execution_count": 9,
   "id": "6081b353",
   "metadata": {},
   "outputs": [
    {
     "ename": "FileNotFoundError",
     "evalue": "[WinError 2] The system cannot find the file specified: 'Resource5.txt'",
     "output_type": "error",
     "traceback": [
      "\u001b[31m---------------------------------------------------------------------------\u001b[39m",
      "\u001b[31mFileNotFoundError\u001b[39m                         Traceback (most recent call last)",
      "\u001b[36mCell\u001b[39m\u001b[36m \u001b[39m\u001b[32mIn[9]\u001b[39m\u001b[32m, line 2\u001b[39m\n\u001b[32m      1\u001b[39m \u001b[38;5;66;03m# muốn xóa file trê thư mục hiện tại\u001b[39;00m\n\u001b[32m----> \u001b[39m\u001b[32m2\u001b[39m \u001b[43mos\u001b[49m\u001b[43m.\u001b[49m\u001b[43mremove\u001b[49m\u001b[43m(\u001b[49m\u001b[33;43m\"\u001b[39;49m\u001b[33;43mResource5.txt\u001b[39;49m\u001b[33;43m\"\u001b[39;49m\u001b[43m)\u001b[49m\n",
      "\u001b[31mFileNotFoundError\u001b[39m: [WinError 2] The system cannot find the file specified: 'Resource5.txt'"
     ]
    }
   ],
   "source": [
    "# muốn xóa file trê thư mục hiện tại\n",
    "os.remove(\"Resource5.txt\")"
   ]
  },
  {
   "cell_type": "code",
   "execution_count": 10,
   "id": "2bc2043b",
   "metadata": {},
   "outputs": [
    {
     "name": "stdout",
     "output_type": "stream",
     "text": [
      "File không tồn tại.\n"
     ]
    }
   ],
   "source": [
    "# kiểm tra file có tồn tại không\n",
    "import os\n",
    "if os.path.exists(\"Resource6.txt\"):\n",
    "    print(\"File tồn tại.\")\n",
    "    os.remove(\"Resource6.txt\")\n",
    "    print(\"Đã xóa file.\")\n",
    "else:\n",
    "    print(\"File không tồn tại.\")"
   ]
  },
  {
   "cell_type": "markdown",
   "id": "c79216fa",
   "metadata": {},
   "source": [
    "## xóa thư mục"
   ]
  },
  {
   "cell_type": "code",
   "execution_count": 11,
   "id": "dbe2225d",
   "metadata": {},
   "outputs": [],
   "source": [
    "import os\n",
    "# xóa thư mục với điều kiện thư mục này rông\n",
    "os.rmdir(\"Thumuc1\")"
   ]
  },
  {
   "cell_type": "markdown",
   "id": "c9fe19ca",
   "metadata": {},
   "source": [
    "## Tạo thư mục mới"
   ]
  },
  {
   "cell_type": "code",
   "execution_count": 12,
   "id": "26f27ceb",
   "metadata": {},
   "outputs": [],
   "source": [
    "import os\n",
    "# tao thư mục mới\n",
    "os.mkdir(\"Thumuc1\")"
   ]
  },
  {
   "cell_type": "markdown",
   "id": "2f15e81b",
   "metadata": {},
   "source": [
    "# định dạng file dữ liệu\n",
    "## csv\n",
    "## json\n",
    "## xml"
   ]
  },
  {
   "cell_type": "markdown",
   "id": "a8fae077",
   "metadata": {},
   "source": [
    "## CSV là 1 định dạng file văn bản sử dụng dấu phẩy để phân tách\n",
    "## dữ liệu\n",
    "## File CSV lưu dữ liệu dạng bảng (số và chữ)\n",
    "## Mỗi dòng là một bản ghi\n",
    "## Mỗi bản ghi có số trường giống nhau, các trường này được phân tách bởi\n",
    "## dấu phẩy\n",
    "## Có thể sử dụng một số ký tự khác để phân tách dữ liệu như tab,\n",
    "## dấu cách, dấu chấm phẩy"
   ]
  },
  {
   "cell_type": "markdown",
   "id": "07aaefb2",
   "metadata": {},
   "source": [
    "### dùng read() và write() để ghi file"
   ]
  },
  {
   "cell_type": "code",
   "execution_count": 13,
   "id": "0875bc07",
   "metadata": {},
   "outputs": [
    {
     "name": "stdout",
     "output_type": "stream",
     "text": [
      "Toyota,Vios,2016,red\n",
      "Honda,City,2017,orange\n",
      "Mazda,CX 5,2018,yellow\n",
      "Hyundai,Santafe,2019,green\n",
      "KIA,Morning,2020,blue\n",
      "\n"
     ]
    }
   ],
   "source": [
    "filename = input (\"Nhập tên file .csv: \")\n",
    "f1 = open(filename, \"a\")\n",
    "brands = (\"Toyota\", \"Honda\", \"Mazda\", \"Hyundai\", \"KIA\")\n",
    "models = (\"Vios\", \"City\", \"CX 5\", \"Santafe\", \"Morning\")\n",
    "years = (2016, 2017, 2018, 2019, 2020)\n",
    "colors = (\"red\", \"orange\", \"yellow\", \"green\", \"blue\")\n",
    "template = \"{},{},{},{}\\n\"\n",
    "for x in range (5):\n",
    "    record = template. format( brands[x], models[x], years[x], colors[x])\n",
    "    f1.write(record)\n",
    "f1.close()\n",
    "with open(filename, \"r\") as f2:\n",
    "    print(f2.read())"
   ]
  },
  {
   "cell_type": "code",
   "execution_count": null,
   "id": "fbc196dd",
   "metadata": {},
   "outputs": [],
   "source": [
    "filename = input(\"Nhập tên file .csv: \")\n",
    "\n",
    "# Mở file ở chế độ ghi nối thêm (append)\n",
    "with open(filename, \"a\", encoding=\"utf-8\") as f1:\n",
    "    # Dữ liệu mẫu\n",
    "    brands = (\"Toyota\", \"Honda\", \"Mazda\", \"Hyundai\", \"KIA\")\n",
    "    models = (\"Vios\", \"City\", \"CX5\", \"Santafe\", \"Morning\")\n",
    "    years = (2016, 2017, 2018, 2019, 2020)\n",
    "    colors = (\"red\", \"orange\", \"yellow\", \"green\", \"blue\")\n",
    "\n",
    "    # Ghi từng dòng bằng f-string\n",
    "    for x in range(5):\n",
    "        record = f\"{brands[x]},{models[x]},{years[x]},{colors[x]}\\n\"\n",
    "        f1.write(record)\n",
    "\n",
    "print(\" Tạo file dữ liệu thành công!\")\n",
    "# xuat \n",
    "with open(filename, \"r\", encoding=\"utf-8\") as f2:\n",
    "    print(f2.read())\n"
   ]
  },
  {
   "cell_type": "markdown",
   "id": "0fef3484",
   "metadata": {},
   "source": [
    "### dùng thư viện chuẩn CSV"
   ]
  },
  {
   "cell_type": "code",
   "execution_count": 14,
   "id": "9d55e613",
   "metadata": {},
   "outputs": [
    {
     "name": "stdout",
     "output_type": "stream",
     "text": [
      " Tạo file dữ liệu thành công!\n",
      "Toyota,Vios,2016,red\n",
      "Honda,City,2017,orange\n",
      "Mazda,CX 5,2018,yellow\n",
      "Hyundai,Santafe,2019,green\n",
      "KIA,Morning,2020,blue\n",
      "Toyota,Vios,2016,red\n",
      "Honda,City,2017,orange\n",
      "Mazda,CX5,2018,yellow\n",
      "Hyundai,Santafe,2019,green\n",
      "KIA,Morning,2020,blue\n",
      "\n"
     ]
    }
   ],
   "source": [
    "import csv\n",
    "import os\n",
    "\n",
    "filename = input(\"Nhập tên file .csv: \")\n",
    "\n",
    "# Kiểm tra file có tồn tại chưa\n",
    "file_exists = os.path.exists(filename)\n",
    "\n",
    "# Dữ liệu mẫu\n",
    "brands = (\"Toyota\", \"Honda\", \"Mazda\", \"Hyundai\", \"KIA\")\n",
    "models = (\"Vios\", \"City\", \"CX5\", \"Santafe\", \"Morning\")\n",
    "years = (2016, 2017, 2018, 2019, 2020)\n",
    "colors = (\"red\", \"orange\", \"yellow\", \"green\", \"blue\")\n",
    "\n",
    "# Mở file ở chế độ ghi nối thêm (append)\n",
    "with open(filename, mode=\"a\", encoding=\"utf-8\", newline=\"\") as f:\n",
    "    writer = csv.writer(f)\n",
    "\n",
    "    # Nếu file mới (chưa tồn tại) thì ghi header\n",
    "    if not file_exists:\n",
    "        writer.writerow([\"Brand\", \"Model\", \"Year\", \"Color\"])\n",
    "\n",
    "    # Ghi từng dòng dữ liệu\n",
    "    for x in range(5):\n",
    "        writer.writerow([brands[x], models[x], years[x], colors[x]])\n",
    "\n",
    "print(\" Tạo file dữ liệu thành công!\")\n",
    "# xuát thông tin\n",
    "with open(filename, \"r\", encoding=\"utf-8\") as f2:\n",
    "    print(f2.read())\n",
    "\n"
   ]
  },
  {
   "cell_type": "markdown",
   "id": "85922eb9",
   "metadata": {},
   "source": [
    "## import csv\tThư viện chuẩn để xử lý file CSV\n",
    "## os.path.exists(filename)\tKiểm tra file đã tồn tại hay chưa\n",
    "## newline=\"\"\tTránh bị dòng trống giữa các bản ghi\n",
    "## csv.writer(f)\tTạo đối tượng ghi CSV\n",
    "## writer.writerow([...])\tGhi 1 dòng dữ liệu vào file\n",
    "## mode=\"a\"\tGhi nối thêm dữ liệu, không ghi đè"
   ]
  },
  {
   "cell_type": "markdown",
   "id": "06d91ba9",
   "metadata": {},
   "source": [
    "### từ list of dictionary to csv"
   ]
  },
  {
   "cell_type": "code",
   "execution_count": 22,
   "id": "39b522df",
   "metadata": {},
   "outputs": [
    {
     "name": "stdout",
     "output_type": "stream",
     "text": [
      " Đã ghi 5 dòng dữ liệu vào file 'testcar,csv' thành công!\n"
     ]
    }
   ],
   "source": [
    "import csv\n",
    "import os\n",
    "\n",
    "# Nhập tên file CSV\n",
    "filename = input(\"Nhập tên file .csv: \")\n",
    "\n",
    "# Kiểm tra file có tồn tại chưa\n",
    "file_exists = os.path.exists(filename)\n",
    "\n",
    "# Dữ liệu mẫu (list các dict)\n",
    "cars = [\n",
    "    {\"Brand\": \"Toyota\", \"Model\": \"Vios\", \"Year\": 2016, \"Color\": \"red\"},\n",
    "    {\"Brand\": \"Honda\", \"Model\": \"City\", \"Year\": 2017, \"Color\": \"orange\"},\n",
    "    {\"Brand\": \"Mazda\", \"Model\": \"CX5\", \"Year\": 2018, \"Color\": \"yellow\"},\n",
    "    {\"Brand\": \"Hyundai\", \"Model\": \"Santafe\", \"Year\": 2019, \"Color\": \"green\"},\n",
    "    {\"Brand\": \"KIA\", \"Model\": \"Morning\", \"Year\": 2020, \"Color\": \"blue\"}\n",
    "]\n",
    "\n",
    "# Xác định các cột (header)\n",
    "fieldnames = [\"Brand\", \"Model\", \"Year\", \"Color\"]\n",
    "\n",
    "# Mở file ở chế độ ghi nối thêm\n",
    "with open(filename, mode=\"a\", encoding=\"utf-8\", newline=\"\") as f:\n",
    "    writer = csv.DictWriter(f, fieldnames=fieldnames)\n",
    "\n",
    "    # Nếu file mới -> ghi header\n",
    "    if not file_exists:\n",
    "        writer.writeheader()\n",
    "\n",
    "    # Ghi từng dòng dữ liệu từ danh sách dict\n",
    "    writer.writerows(cars)\n",
    "\n",
    "print(f\" Đã ghi {len(cars)} dòng dữ liệu vào file '{filename}' thành công!\")\n"
   ]
  },
  {
   "cell_type": "markdown",
   "id": "7a4daa01",
   "metadata": {},
   "source": [
    "## ghi dữ liệu sinh viên vào file csv\n"
   ]
  },
  {
   "cell_type": "code",
   "execution_count": null,
   "id": "ca818783",
   "metadata": {},
   "outputs": [],
   "source": [
    "# Nhập tên file CSV\n",
    "filename = input(\"Nhập tên file .csv: \")\n",
    "\n",
    "# Mở file ở chế độ ghi (w = ghi mới)\n",
    "with open(filename, \"w\", encoding=\"utf-8\") as f:\n",
    "    # Ghi dòng tiêu đề (header)\n",
    "    f.write(\"MSSV,Họ tên,Lớp,Năm sinh,Điểm trung bình\\n\")\n",
    "\n",
    "    # Nhập số lượng sinh viên\n",
    "    n = int(input(\"Nhập số lượng sinh viên: \"))\n",
    "\n",
    "    # Ghi từng sinh viên\n",
    "    for i in range(n):\n",
    "        print(f\"\\n--- Sinh viên thứ {i+1} ---\")\n",
    "        mssv = input(\"MSSV: \")\n",
    "        hoten = input(\"Họ tên: \")\n",
    "        lop = input(\"Lớp: \")\n",
    "        namsinh = input(\"Năm sinh: \")\n",
    "        diem = input(\"Điểm trung bình: \")\n",
    "\n",
    "        # Ghi một dòng vào file bằng f-string\n",
    "        line = f\"{mssv},{hoten},{lop},{namsinh},{diem}\\n\"\n",
    "        f.write(line)\n",
    "\n",
    "print(f\"\\n Đã lưu thông tin {n} sinh viên vào file '{filename}' thành công!\")\n"
   ]
  },
  {
   "cell_type": "markdown",
   "id": "6e1e144c",
   "metadata": {},
   "source": [
    "## lưu dữ liệu trực tiếp vào file"
   ]
  },
  {
   "cell_type": "code",
   "execution_count": null,
   "id": "7777131f",
   "metadata": {},
   "outputs": [],
   "source": [
    "import os\n",
    "\n",
    "# Nhập tên file CSV\n",
    "filename = input(\"Nhập tên file .csv: \")\n",
    "\n",
    "# Kiểm tra file có tồn tại không\n",
    "file_exists = os.path.exists(filename)\n",
    "\n",
    "# Mở file: nếu chưa có thì tạo mới ('w'), nếu có thì ghi thêm ('a')\n",
    "mode = \"a\" if file_exists else \"w\"\n",
    "\n",
    "with open(filename, mode, encoding=\"utf-8\") as f:\n",
    "    # Nếu file chưa tồn tại -> ghi tiêu đề (header)\n",
    "    if not file_exists:\n",
    "        f.write(\"MSSV,Họ tên,Lớp,Năm sinh,Điểm trung bình\\n\")\n",
    "\n",
    "    # Nhập số lượng sinh viên mới\n",
    "    n = int(input(\"Nhập số lượng sinh viên cần ghi thêm: \"))\n",
    "\n",
    "    # Ghi từng sinh viên vào file\n",
    "    for i in range(n):\n",
    "        print(f\"\\n--- Sinh viên thứ {i+1} ---\")\n",
    "        mssv = input(\"MSSV: \")\n",
    "        hoten = input(\"Họ tên: \")\n",
    "        lop = input(\"Lớp: \")\n",
    "        namsinh = input(\"Năm sinh: \")\n",
    "        diem = input(\"Điểm trung bình: \")\n",
    "\n",
    "        # Ghi một dòng CSV bằng f-string\n",
    "        line = f\"{mssv},{hoten},{lop},{namsinh},{diem}\\n\"\n",
    "        f.write(line)\n",
    "\n",
    "print(f\"\\n Đã ghi {n} sinh viên vào file '{filename}' thành công!\")\n"
   ]
  },
  {
   "cell_type": "markdown",
   "id": "04b75a85",
   "metadata": {},
   "source": [
    "## lưu dữ liệu vào list, sau đó lưu vào file"
   ]
  },
  {
   "cell_type": "code",
   "execution_count": null,
   "id": "42620c56",
   "metadata": {},
   "outputs": [],
   "source": [
    "import csv\n",
    "\n",
    "students = []\n",
    "n = int(input(\"Nhập số lượng sinh viên: \"))\n",
    "\n",
    "for i in range(n):\n",
    "    print(f\"\\n--- Sinh viên {i+1} ---\")\n",
    "    mssv = input(\"MSSV: \")\n",
    "    name = input(\"Họ tên: \")\n",
    "    cls = input(\"Lớp: \")\n",
    "    score = float(input(\"Điểm trung bình: \"))\n",
    "    students.append({\"MSSV\": mssv, \"Họ tên\": name, \"Lớp\": cls, \"Điểm\": score})\n",
    "\n",
    "# Sau khi nhập xong mới ghi ra file\n",
    "with open(\"sinhvien.csv\", \"w\", encoding=\"utf-8\", newline=\"\") as f:\n",
    "    writer = csv.DictWriter(f, fieldnames=[\"MSSV\", \"Họ tên\", \"Lớp\", \"Điểm\"])\n",
    "    writer.writeheader()\n",
    "    writer.writerows(students)\n",
    "\n",
    "print(\" Đã lưu danh sách sinh viên vào file CSV thành công!\")\n"
   ]
  },
  {
   "cell_type": "markdown",
   "id": "d3c07726",
   "metadata": {},
   "source": [
    "## file JSON\n",
    "### JSON là một định dạng văn bản để lưu trữ và truyền dữ liệu\n",
    "### Dữ liệu được lưu dưới dạng các cặp thuộc tính – giá trị\n",
    "### Thường được sử dụng để trao đổi dữ liệu giữa các máy tính, bao\n",
    "### gồm các ứng dụng web với máy chủ\n",
    "### JSON là định dạng dữ liệu không phụ thuộc vào ngôn ngữ lập\n",
    "### trình\n",
    "### Cú pháp:\n",
    "### Dữ liệu là các cặp tên/giá trị\n",
    "### Dữ liệu được phân tách bởi dấu phẩy\n",
    "### Sử dụng dấu ngoặc nhọn để lưu các đối tượng\n",
    "### Sử dụng dấu ngoặc vuông để lưu các mảng"
   ]
  },
  {
   "cell_type": "code",
   "execution_count": 16,
   "id": "69badfbb",
   "metadata": {},
   "outputs": [
    {
     "name": "stdout",
     "output_type": "stream",
     "text": [
      "Tạo file dữ liệu thành công!\n"
     ]
    }
   ],
   "source": [
    "filename = input (\"Nhập tên file .json: \")\n",
    "f1 = open(filename, \"a\")\n",
    "brands = (\"Toyota\", \"Honda\", \"Mazda\", \"Hyundai\", \"KIA\")\n",
    "models = (\"Vios\", \"City\", \"CX 5\", \"Santafe\", \"Morning\")\n",
    "years = (2016, 2017, 2018, 2019, 2020)\n",
    "colors = (\"red\", \"orange\", \"yellow\", \"green\", \"blue\")\n",
    "template = \"{{brand: {}, model: {}, year: {}, color: {}}}\\n\"\n",
    "for x in range (5):\n",
    "    record = template. format(  brands[x], models[x], years[x], colors[x])\n",
    "    f1.write(record)\n",
    "f1.close()\n",
    "print (\"Tạo file dữ liệu thành công!\")"
   ]
  },
  {
   "cell_type": "code",
   "execution_count": 2,
   "id": "d3ced001",
   "metadata": {},
   "outputs": [
    {
     "name": "stdout",
     "output_type": "stream",
     "text": [
      " Tạo file dữ liệu JSON thành công!\n",
      "[\n",
      "{\"brand\": \"Toyota\", \"model\": \"Vios\", \"year\": 2016, \"color\": \"red\"},\n",
      "{\"brand\": \"Honda\", \"model\": \"City\", \"year\": 2017, \"color\": \"orange\"},\n",
      "{\"brand\": \"Mazda\", \"model\": \"CX5\", \"year\": 2018, \"color\": \"yellow\"},\n",
      "{\"brand\": \"Hyundai\", \"model\": \"Santafe\", \"year\": 2019, \"color\": \"green\"},\n",
      "{\"brand\": \"KIA\", \"model\": \"Morning\", \"year\": 2020, \"color\": \"blue\"}\n",
      "]\n",
      "\n"
     ]
    }
   ],
   "source": [
    "filename = input(\"Nhập tên file .json: \")\n",
    "\n",
    "# Mở file ở chế độ ghi mới\n",
    "f1 = open(filename, \"w\", encoding=\"utf-8\")\n",
    "\n",
    "brands = (\"Toyota\", \"Honda\", \"Mazda\", \"Hyundai\", \"KIA\")\n",
    "models = (\"Vios\", \"City\", \"CX5\", \"Santafe\", \"Morning\")\n",
    "years = (2016, 2017, 2018, 2019, 2020)\n",
    "colors = (\"red\", \"orange\", \"yellow\", \"green\", \"blue\")\n",
    "\n",
    "# Định nghĩa mẫu JSON (template) — chú ý các dấu ngoặc kép\n",
    "template = '{{\"brand\": \"{}\", \"model\": \"{}\", \"year\": {}, \"color\": \"{}\"}}\\n'\n",
    "\n",
    "# Bắt đầu mảng JSON\n",
    "f1.write(\"[\\n\")\n",
    "\n",
    "for x in range(5):\n",
    "    # Ghi từng bản ghi dựa trên template\n",
    "    record = template.format(brands[x], models[x], years[x], colors[x])\n",
    "    if x < 4:  # Thêm dấu phẩy nếu chưa phải dòng cuối\n",
    "        record = record.strip() + \",\\n\"\n",
    "    f1.write(record)\n",
    "\n",
    "# Kết thúc mảng JSON\n",
    "f1.write(\"]\\n\")\n",
    "\n",
    "f1.close()\n",
    "\n",
    "print(\" Tạo file dữ liệu JSON thành công!\")\n",
    "# xuất file json ra màn hình\n",
    "with open(filename, \"r\", encoding=\"utf-8\") as f2:\n",
    "    print(f2.read())\n",
    "\n"
   ]
  },
  {
   "cell_type": "markdown",
   "id": "19f011f4",
   "metadata": {},
   "source": [
    "# FILE XML"
   ]
  },
  {
   "cell_type": "markdown",
   "id": "a2ac93e1",
   "metadata": {},
   "source": [
    "## XML là một ngôn ngữ đánh dấu và\n",
    "## XML là một ngôn ngữ đánh dấu và định dạng file cho việc lưu trữ,truyền và tái tạo dữ liệu\n",
    "## XML xác định một bộ các quy tắc để mã hóa tài liệu ở định dạng\n",
    "## mà cả người và máy đều đọc được\n",
    "## Cú pháp:\n",
    "## File XML phải chứa một thành phần root mà là cha của tất cả các thành\n",
    "## phần khác\n",
    "## Tất cả các thành phần phải có thẻ đóng, trừ prolog\n",
    "## Các thẻ XML là phân biệt chữ hoa – chữ thường"
   ]
  },
  {
   "cell_type": "code",
   "execution_count": 3,
   "id": "2f1482cf",
   "metadata": {},
   "outputs": [
    {
     "name": "stdout",
     "output_type": "stream",
     "text": [
      "Tạo file dữ liệu thành công!\n"
     ]
    }
   ],
   "source": [
    "filename = input (\"Nhập tên file .xml: \")\n",
    "f1 = open(filename, \"a\")\n",
    "brands = (\"Toyota\", \"Honda\", \"Mazda\", \"Hyundai\", \"KIA\")\n",
    "models = (\"Vios\", \"City\", \"CX 5\", \"Santafe\", \"Morning\")\n",
    "years = (2016, 2017, 2018, 2019, 2020)\n",
    "colors = (\"red\", \"orange\", \"yellow\", \"green\", \"blue\")\n",
    "f1.write(\"<cars>\\n\")\n",
    "for x in range (5):\n",
    "    f1.write(\"<car>\\n\")\n",
    "    f1.write(\"<brand>{}</brand>\".format(brands[x]))\n",
    "    f1.write(\"<model>{}</model>\".format(models[x]))\n",
    "    f1.write(\"<year>{}</year>\".format(years[x]))\n",
    "    f1.write(\"<color>{}</color>\\n\".format(colors[x]))\n",
    "    f1.write(\"</car>\\n\")\n",
    "    f1.write(\"</cars>\")\n",
    "f1.close ()\n",
    "print (\"Tạo file dữ liệu thành công!\")"
   ]
  }
 ],
 "metadata": {
  "kernelspec": {
   "display_name": "Python 3",
   "language": "python",
   "name": "python3"
  },
  "language_info": {
   "codemirror_mode": {
    "name": "ipython",
    "version": 3
   },
   "file_extension": ".py",
   "mimetype": "text/x-python",
   "name": "python",
   "nbconvert_exporter": "python",
   "pygments_lexer": "ipython3",
   "version": "3.13.7"
  }
 },
 "nbformat": 4,
 "nbformat_minor": 5
}

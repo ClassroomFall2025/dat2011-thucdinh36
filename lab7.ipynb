{
 "cells": [
  {
   "cell_type": "markdown",
   "id": "fdeff819",
   "metadata": {},
   "source": [
    "# Sinh Viên thực hiện Lab 7 ở Đây"
   ]
  },
  {
   "cell_type": "markdown",
   "id": "acc5d7dc",
   "metadata": {},
   "source": [
    "## Lab 7 - Bài 1"
   ]
  },
  {
   "cell_type": "code",
   "execution_count": 6,
   "id": "001e0507",
   "metadata": {},
   "outputs": [
    {
     "name": "stdout",
     "output_type": "stream",
     "text": [
      "Tự nguyện\n",
      "Trương Quốc Khánh\n",
      "Nếu là chim, tôi sẽ là loài bồ câu trắng\n",
      "Nếu là hoa, tôi sẽ là một đóa hướng dương\n",
      "Nếu là mây, tôi sẽ là một vầng mây ấm\n",
      "Là người, tôi sẽ chết cho quê hương.\n",
      "\n",
      "Là chim, tôi sẽ cất cao đôi cánh mềm\n",
      "Từ nam ra ngoài bắc báo tin nối liền\n",
      "Là hoa, tôi nở tình yêu ban sớm\n",
      "Cùng muôn trái tim ngất ngây hoà bình.\n",
      "\n",
      "Là mây, theo làn gió tung bay khắp trời\n",
      "Nghìn xưa oai hùng đó tôi xin tiếp lời\n",
      "Là người, xin một lần khi nằm xuống\n",
      "Nhìn anh em đứng lên phất cao ngọn cờ.\n",
      "\n",
      " Tên bài thơ: Tự nguyện\n",
      "Tác giả: Trương Quốc Khánh\n"
     ]
    }
   ],
   "source": [
    "# Code lab 7 bài 1 ở đây\n",
    "# Đọc toàn bộ nội dung của file\n",
    "with open(\"DAT2011 - Lab 7 - Resource.txt\", \"r\", encoding=\"utf-8\") as file:     \n",
    "        full_content = file.read()\n",
    "        print(full_content)\n",
    "# Xuất ra màn hình tên bài thơ và tên tác giả  \n",
    "with open(\"DAT2011 - Lab 7 - Resource.txt\", \"r\", encoding=\"utf-8\") as file:\n",
    "    dong = file.readlines()\n",
    "    ten_bai_tho = dong[0].strip()      \n",
    "    tac_gia = dong[1].strip()         \n",
    "    print(\"\\n Tên bài thơ:\", ten_bai_tho) \n",
    "    print(\"Tác giả:\", tac_gia)\n",
    "\n"
   ]
  },
  {
   "cell_type": "markdown",
   "id": "c0835310",
   "metadata": {},
   "source": [
    "## Lab 7 - Bài 2"
   ]
  },
  {
   "cell_type": "code",
   "execution_count": 1,
   "id": "fa9cb39f",
   "metadata": {},
   "outputs": [
    {
     "name": "stdout",
     "output_type": "stream",
     "text": [
      "Đã ghi nội dung vào file Lab7-Exercise2.txt\n"
     ]
    }
   ],
   "source": [
    "# Code lab 7  bài 2 ở đây\n",
    "content = \"\"\"…\n",
    "Nếu một mai tôi có bay lên trời\n",
    "Thì người ơi tôi đã sống rất thảnh thơi\n",
    "\n",
    "Nếu một mai tôi có đi qua đời\n",
    "Thì người ơi tôi đã sống rất tuyệt vời\n",
    "…\"\"\"\n",
    "\n",
    "with open(\"Lab7-Bai2.txt\", \"w\", encoding=\"utf-8\") as f:\n",
    "    f.write(content)\n",
    "\n",
    "print(\"Đã ghi nội dung vào file Lab7-Exercise2.txt\")"
   ]
  },
  {
   "cell_type": "markdown",
   "id": "0f2483fe",
   "metadata": {},
   "source": [
    "## Lab 7 - Bài 3"
   ]
  },
  {
   "cell_type": "code",
   "execution_count": null,
   "id": "7034990b",
   "metadata": {},
   "outputs": [
    {
     "name": "stdout",
     "output_type": "stream",
     "text": [
      "\n",
      "--- Nhập thông tin bài thơ 1 ---\n",
      "\n",
      "--- Nhập thông tin bài thơ 2 ---\n",
      "\n",
      "--- Nhập thông tin bài thơ 3 ---\n",
      "\n",
      "--- Nhập thông tin bài thơ 4 ---\n",
      "\n",
      "--- Nhập thông tin bài thơ 5 ---\n"
     ]
    }
   ],
   "source": [
    "# Code lab 7  bài 3 ở đây\n",
    "with open(\"Lab7-Bai3.csv\", \"w\", encoding=\"utf-8\") as f:\n",
    "    # Ghi tiêu đề\n",
    "    f.write(\"Thông tin năm bài thơ\\n\")\n",
    "    \n",
    "    # Nhập và ghi 5 bài thơ\n",
    "    for i in range(5):\n",
    "        print(f\"\\n--- Nhập thông tin bài thơ {i+1} ---\")\n",
    "        tieu_de = input(\"Nhập tiêu đề: \")\n",
    "        tac_gia = input(\"Nhập tác giả: \")\n",
    "        nam = input(\"Nhập năm sáng tác: \")\n",
    "    \n",
    "        f.write(f\"{tieu_de},{tac_gia},{nam}\\n\")"
   ]
  },
  {
   "cell_type": "markdown",
   "id": "d36ea3d3",
   "metadata": {},
   "source": [
    "## Lab 7 - Bài 4"
   ]
  },
  {
   "cell_type": "code",
   "execution_count": null,
   "id": "4c707ec1",
   "metadata": {},
   "outputs": [
    {
     "name": "stdout",
     "output_type": "stream",
     "text": [
      "✅ Đã tạo file Lab7_Bai4.xml thành công!\n"
     ]
    }
   ],
   "source": [
    "# code lab 7 bài 4 ở đây\n",
    "with open(\"DAT2011 - Lab 7 - Resource.txt\", \"r\", encoding=\"utf-8\") as f:\n",
    "    lines = [line.strip() for line in f.readlines()]\n",
    "\n",
    "lines = [line for line in lines if line.strip() != \"\"]      # Bỏ các dòng trống ở đầu/cuối (nếu có)\n",
    "title = lines[0]        # Dòng đầu tiên là tên bài thơ\n",
    "author = lines[1]       # Dòng thứ hai là tên tác giả\n",
    "body_lines = lines[2:]     # Phần còn lại là nội dung bài thơ\n",
    "sections = []       # Ghép các khổ thơ (cách nhau 1 dòng trống trong file gốc)\n",
    "temp = []\n",
    "with open(\"DAT2011 - Lab 7 - Resource.txt\", \"r\", encoding=\"utf-8\") as f:\n",
    "    for line in f:\n",
    "        if line.strip() == \"\":\n",
    "            if temp:\n",
    "                sections.append(\" \".join(temp).strip())\n",
    "                temp = []\n",
    "        else:\n",
    "            temp.append(line.strip())\n",
    "    if temp:\n",
    "        sections.append(\" \".join(temp).strip())\n",
    "\n",
    "# Tạo nội dung XML\n",
    "xml_content = \"<songs>\\n\"\n",
    "xml_content += \"  <song>\\n\"\n",
    "xml_content += f\"    <name>{title}</name>\\n\"\n",
    "xml_content += f\"    <author>{author}</author>\\n\"\n",
    "for section in sections:\n",
    "    xml_content += f\"    <section>{section}</section>\\n\"\n",
    "xml_content += \"  </song>\\n\"\n",
    "xml_content += \"</songs>\"\n",
    "\n",
    "# Ghi ra file XML\n",
    "with open(\"Lab7_Bai4.xml\", \"w\", encoding=\"utf-8\") as f:\n",
    "    f.write(xml_content)\n",
    "\n",
    "print(\"Đã tạo file Lab7_Bai4.xml thành công!\")"
   ]
  },
  {
   "cell_type": "markdown",
   "id": "e2b41d4a",
   "metadata": {},
   "source": [
    "## Lab 7 - Bài 5: bài tập làm thêm"
   ]
  },
  {
   "cell_type": "code",
   "execution_count": null,
   "id": "0e0172f7",
   "metadata": {},
   "outputs": [],
   "source": [
    "# code lab 7  bài làm thêm ở đây "
   ]
  }
 ],
 "metadata": {
  "kernelspec": {
   "display_name": "Python 3",
   "language": "python",
   "name": "python3"
  },
  "language_info": {
   "codemirror_mode": {
    "name": "ipython",
    "version": 3
   },
   "file_extension": ".py",
   "mimetype": "text/x-python",
   "name": "python",
   "nbconvert_exporter": "python",
   "pygments_lexer": "ipython3",
   "version": "3.13.7"
  }
 },
 "nbformat": 4,
 "nbformat_minor": 5
}

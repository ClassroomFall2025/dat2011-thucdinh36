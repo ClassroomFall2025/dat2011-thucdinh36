{
 "cells": [
  {
   "cell_type": "markdown",
   "id": "fdeff819",
   "metadata": {},
   "source": [
    "# Sinh Viên thực hiện Lab 5 ở Đây"
   ]
  },
  {
   "cell_type": "markdown",
   "id": "acc5d7dc",
   "metadata": {},
   "source": [
    "## Lab 5 - Bài 1"
   ]
  },
  {
   "cell_type": "code",
   "execution_count": null,
   "id": "001e0507",
   "metadata": {},
   "outputs": [],
   "source": [
    "# Code lab 5 bài 1 ở đây\n",
    "class SanPham1:\n",
    "    def __init__(self):\n",
    "        self.ten_sp = \"\"\n",
    "        self.gia = 0\n",
    "        self.giam_gia = 0\n",
    "\n",
    "    def thue_nhap_khau(self):\n",
    "        return self.gia * 0.1\n",
    "\n",
    "    def nhap(self):\n",
    "        self.ten_sp = input(\"Nhập tên sản phẩm: \")\n",
    "        self.gia = float(input(\"Nhập giá sản phẩm: \"))\n",
    "        self.giam_gia = float(input(\"Nhập giảm giá: \"))\n",
    "\n",
    "    def xuat(self):\n",
    "        print(\"\\n--- Thông tin sản phẩm ---\")\n",
    "        print(f\"Tên sản phẩm: {self.ten_sp}\")\n",
    "        print(f\"Giá: {self.gia:,.0f}\")\n",
    "        print(f\"Giảm giá: {self.giam_gia:,.0f}\")\n",
    "        print(f\"Thuế nhập khẩu: {self.thue_nhap_khau():,.0f}\")\n",
    "        print(\"--------------------------\")\n"
   ]
  },
  {
   "cell_type": "markdown",
   "id": "c0835310",
   "metadata": {},
   "source": [
    "## Lab 5 - Bài 2"
   ]
  },
  {
   "cell_type": "code",
   "execution_count": 1,
   "id": "fa9cb39f",
   "metadata": {},
   "outputs": [
    {
     "name": "stdout",
     "output_type": "stream",
     "text": [
      "=== Nhập sản phẩm 1 ===\n",
      "\n",
      "=== Nhập sản phẩm 2 ===\n",
      "\n",
      "=== Thông tin 2 sản phẩm ===\n",
      "\n",
      "--- Thông tin sản phẩm ---\n",
      "Tên sản phẩm: sách\n",
      "Giá: 50,000\n",
      "Giảm giá: 10\n",
      "Thuế nhập khẩu: 5,000\n",
      "--------------------------\n",
      "\n",
      "--- Thông tin sản phẩm ---\n",
      "Tên sản phẩm: máy tính\n",
      "Giá: 100,000\n",
      "Giảm giá: 10\n",
      "Thuế nhập khẩu: 10,000\n",
      "--------------------------\n"
     ]
    }
   ],
   "source": [
    "# Code lab 5  bài 2 ở đây\n",
    "from lab5sanpham import SanPham1, SanPham2, SanPham3\n",
    "\n",
    "SanPham = SanPham3  # có thể đổi thành SanPham1 hoặc SanPham2\n",
    "\n",
    "sp1 = SanPham()\n",
    "sp2 = SanPham()\n",
    "\n",
    "print(\"=== Nhập sản phẩm 1 ===\")\n",
    "sp1.nhap()\n",
    "\n",
    "print(\"\\n=== Nhập sản phẩm 2 ===\")\n",
    "sp2.nhap()\n",
    "\n",
    "print(\"\\n=== Thông tin 2 sản phẩm ===\")\n",
    "sp1.xuat()\n",
    "sp2.xuat()"
   ]
  },
  {
   "cell_type": "markdown",
   "id": "0f2483fe",
   "metadata": {},
   "source": [
    "## Lab 5 - Bài 3"
   ]
  },
  {
   "cell_type": "code",
   "execution_count": null,
   "id": "7034990b",
   "metadata": {},
   "outputs": [],
   "source": [
    "# Code lab 5  bài 3 ở đây\n",
    "class SanPham2:\n",
    "    def __init__(self):\n",
    "        self.__ten_sp = \"\"\n",
    "        self.__gia = 0\n",
    "        self.__giam_gia = 0\n",
    "\n",
    "    # Getter / Setter\n",
    "    def get_ten_sp(self):\n",
    "        return self.__ten_sp\n",
    "    def set_ten_sp(self, ten_sp):\n",
    "        self.__ten_sp = ten_sp\n",
    "    def get_gia(self):\n",
    "        return self.__gia\n",
    "    def set_gia(self, gia):\n",
    "        self.__gia = gia\n",
    "    def get_giam_gia(self):\n",
    "        return self.__giam_gia\n",
    "    def set_giam_gia(self, giam_gia):\n",
    "        self.__giam_gia = giam_gia\n",
    "    def thue_nhap_khau(self):\n",
    "        return self.__gia * 0.1\n",
    "\n",
    "    def nhap(self):\n",
    "        self.__ten_sp = input(\"Nhập tên sản phẩm: \")\n",
    "        self.__gia = float(input(\"Nhập giá sản phẩm: \"))\n",
    "        self.__giam_gia = float(input(\"Nhập giảm giá: \"))\n",
    "\n",
    "    def xuat(self):\n",
    "        print(\"\\n--- Thông tin sản phẩm ---\")\n",
    "        print(f\"Tên sản phẩm: {self.__ten_sp}\")\n",
    "        print(f\"Giá: {self.__gia:,.0f}\")\n",
    "        print(f\"Giảm giá: {self.__giam_gia:,.0f}\")\n",
    "        print(f\"Thuế nhập khẩu: {self.thue_nhap_khau():,.0f}\")\n",
    "        print(\"--------------------------\")"
   ]
  },
  {
   "cell_type": "markdown",
   "id": "d36ea3d3",
   "metadata": {},
   "source": [
    "## Lab 5 - Bài 4"
   ]
  },
  {
   "cell_type": "code",
   "execution_count": null,
   "id": "4c707ec1",
   "metadata": {},
   "outputs": [
    {
     "name": "stdout",
     "output_type": "stream",
     "text": [
      "\n",
      "--- Thông tin sản phẩm ---\n",
      "Tên sản phẩm: Laptop \n",
      "Giá: 20000000\n",
      "Giảm giá: 1500000\n",
      "Thuế nhập khẩu: 2000000.0\n",
      "\n",
      "--- Thông tin sản phẩm ---\n",
      "Tên sản phẩm: Điện thoại\n",
      "Giá: 15000000\n",
      "Giảm giá: 1000000\n",
      "Thuế nhập khẩu: 1500000.0\n"
     ]
    }
   ],
   "source": [
    "# code lab 5 bài 4 ở đây\n",
    "class SanPham3:\n",
    "    def __init__(self, ten_sp=\"\", gia=0, giam_gia=0):\n",
    "        self.__ten_sp = ten_sp\n",
    "        self.__gia = gia\n",
    "        self.__giam_gia = giam_gia\n",
    "\n",
    "    # Getter / Setter\n",
    "    def get_ten_sp(self):\n",
    "        return self.__ten_sp\n",
    "    def set_ten_sp(self, ten_sp):\n",
    "        self.__ten_sp = ten_sp\n",
    "    def get_gia(self):\n",
    "        return self.__gia\n",
    "    def set_gia(self, gia):\n",
    "        self.__gia = gia\n",
    "    def get_giam_gia(self):\n",
    "        return self.__giam_gia\n",
    "    def set_giam_gia(self, giam_gia):\n",
    "        self.__giam_gia = giam_gia\n",
    "    def thue_nhap_khau(self):\n",
    "        return self.__gia * 0.1\n",
    "\n",
    "    def nhap(self):\n",
    "        self.__ten_sp = input(\"Nhập tên sản phẩm: \")\n",
    "        self.__gia = float(input(\"Nhập giá sản phẩm: \"))\n",
    "        self.__giam_gia = float(input(\"Nhập giảm giá: \"))\n",
    "\n",
    "    def xuat(self):\n",
    "        print(\"\\n--- Thông tin sản phẩm ---\")\n",
    "        print(f\"Tên sản phẩm: {self.__ten_sp}\")\n",
    "        print(f\"Giá: {self.__gia:,.0f}\")\n",
    "        print(f\"Giảm giá: {self.__giam_gia:,.0f}\")\n",
    "        print(f\"Thuế nhập khẩu: {self.thue_nhap_khau():,.0f}\")\n",
    "        print(\"--------------------------\")"
   ]
  },
  {
   "cell_type": "markdown",
   "id": "e2b41d4a",
   "metadata": {},
   "source": [
    "## Lab 5 - Bài 5: bài tập làm thêm"
   ]
  },
  {
   "cell_type": "code",
   "execution_count": null,
   "id": "0e0172f7",
   "metadata": {},
   "outputs": [],
   "source": [
    "# code lab 5  bài làm thêm ở đây "
   ]
  }
 ],
 "metadata": {
  "kernelspec": {
   "display_name": "Python 3",
   "language": "python",
   "name": "python3"
  },
  "language_info": {
   "codemirror_mode": {
    "name": "ipython",
    "version": 3
   },
   "file_extension": ".py",
   "mimetype": "text/x-python",
   "name": "python",
   "nbconvert_exporter": "python",
   "pygments_lexer": "ipython3",
   "version": "3.13.7"
  }
 },
 "nbformat": 4,
 "nbformat_minor": 5
}

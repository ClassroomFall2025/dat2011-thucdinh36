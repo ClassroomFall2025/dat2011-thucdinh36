{
 "cells": [
  {
   "cell_type": "markdown",
   "id": "fdeff819",
   "metadata": {},
   "source": [
    "# Sinh Viên thực hiện Lab 5 ở Đây"
   ]
  },
  {
   "cell_type": "markdown",
   "id": "acc5d7dc",
   "metadata": {},
   "source": [
    "## Lab 5 - Bài 1"
   ]
  },
  {
   "cell_type": "code",
   "execution_count": 4,
   "id": "001e0507",
   "metadata": {},
   "outputs": [],
   "source": [
    "# Code lab 5 bài 1 ở đây\n",
    "class SanPham:\n",
    "    def __init__(self, ten_san_pham, gia, giam_gia):\n",
    "        self.ten_san_pham = ten_san_pham\n",
    "        self.gia = gia\n",
    "        self.giam_gia = giam_gia\n",
    "\n",
    "    def thue_nhap_khau(self):\n",
    "        return self.gia * 0.1\n",
    "\n",
    "    def nhap_sp(self):\n",
    "        self.ten_san_pham = input(\"Tên sản phẩm: \")\n",
    "        self.gia = float(input(\"Giá: \"))\n",
    "        self.giam_gia = float(input(\"Giảm giá: \"))\n",
    "\n",
    "    def xuat_tt_sp(self):\n",
    "        print(f\"Sản phẩm {self.ten_san_pham} có giá {self.gia:,.0f} và được giảm giá {self.giam_gia}\")\n",
    "        print(f\"Thuế nhập khẩu (10%): {self.thue_nhap_khau():,.0f}\")"
   ]
  },
  {
   "cell_type": "markdown",
   "id": "c0835310",
   "metadata": {},
   "source": [
    "## Lab 5 - Bài 2"
   ]
  },
  {
   "cell_type": "code",
   "execution_count": 3,
   "id": "fa9cb39f",
   "metadata": {},
   "outputs": [
    {
     "name": "stdout",
     "output_type": "stream",
     "text": [
      "=== Nhập sản phẩm 1 ===\n",
      "\n",
      "=== Nhập sản phẩm 2 ===\n",
      "\n",
      "=== Thông tin 2 sản phẩm ===\n",
      "Sản phẩm truyện có giá 95,000 và được giảm giá 10.0\n",
      "Thuế nhập khẩu (10%): 9,500\n",
      "Sản phẩm Bút có giá 10,000 và được giảm giá 5.0\n",
      "Thuế nhập khẩu (10%): 1,000\n"
     ]
    }
   ],
   "source": [
    "# Code lab 5  bài 2 ở đây\n",
    "from lab5 import SanPham  \n",
    "\n",
    "sp1 = SanPham(\"\", 0, 0)\n",
    "sp2 = SanPham(\"\", 0, 0)\n",
    "\n",
    "print(\"=== Nhập sản phẩm 1 ===\")\n",
    "sp1.nhap_sp()\n",
    "\n",
    "print(\"\\n=== Nhập sản phẩm 2 ===\")\n",
    "sp2.nhap_sp()\n",
    "\n",
    "print(\"\\n=== Thông tin 2 sản phẩm ===\")\n",
    "sp1.xuat_tt_sp()\n",
    "sp2.xuat_tt_sp()"
   ]
  },
  {
   "cell_type": "markdown",
   "id": "0f2483fe",
   "metadata": {},
   "source": [
    "## Lab 5 - Bài 3"
   ]
  },
  {
   "cell_type": "code",
   "execution_count": 8,
   "id": "7034990b",
   "metadata": {},
   "outputs": [],
   "source": [
    "# Code lab 5  bài 3 ở đây\n",
    "class SanPham:\n",
    "    def __init__(self, ten_san_pham,gia, giam_gia):\n",
    "        # Đóng gói dữ liệu bằng private\n",
    "        self.__ten_san_pham = ten_san_pham\n",
    "        self.__gia = gia\n",
    "        self.__giam_gia = giam_gia\n",
    "\n",
    "    def get_ten_san_pham(self):\n",
    "        return self.__ten_san_pham\n",
    "    def set_ten_san_pham(self, ten):\n",
    "        self.__ten_san_pham = ten\n",
    "    def get_gia(self):\n",
    "        return self.__gia\n",
    "    def set_gia(self, gia):\n",
    "        self.__gia = gia\n",
    "    def get_giam_gia(self):\n",
    "        return self.__giam_gia\n",
    "    def set_giam_gia(self, giam_gia):\n",
    "        self.__giam_gia = giam_gia\n",
    "    def thue_nhap_khau(self):\n",
    "        return self.__gia * 0.1\n",
    "\n",
    "    def xuat_tt_sp(self):\n",
    "        print(f\"Sản phẩm {self.__ten_san_pham} có giá {self.__gia} và giảm {self.__giam_gia}\")\n",
    "        print(f\"Thuế nhập khẩu: {self.thue_nhap_khau()}\")"
   ]
  },
  {
   "cell_type": "markdown",
   "id": "d36ea3d3",
   "metadata": {},
   "source": [
    "## Lab 5 - Bài 4"
   ]
  },
  {
   "cell_type": "code",
   "execution_count": 7,
   "id": "4c707ec1",
   "metadata": {},
   "outputs": [
    {
     "name": "stdout",
     "output_type": "stream",
     "text": [
      "\n",
      "--- Thông tin sản phẩm ---\n",
      "Tên sản phẩm: Laptop \n",
      "Giá: 20000000\n",
      "Giảm giá: 1500000\n",
      "Thuế nhập khẩu: 2000000.0\n",
      "\n",
      "--- Thông tin sản phẩm ---\n",
      "Tên sản phẩm: Điện thoại\n",
      "Giá: 15000000\n",
      "Giảm giá: 1000000\n",
      "Thuế nhập khẩu: 1500000.0\n"
     ]
    }
   ],
   "source": [
    "# code lab 5 bài 4 ở đây\n",
    "class SanPham:\n",
    "    def __init__(self, ten_san_pham, gia, giam_gia):\n",
    "        self.__ten_san_pham = ten_san_pham\n",
    "        self.__gia = gia\n",
    "        self.__giam_gia = giam_gia\n",
    "\n",
    "    def thue_nhap_khau(self):\n",
    "        return self.__gia * 0.1\n",
    "\n",
    "    def xuat_tt_sp(self):\n",
    "        print(\"\\n--- Thông tin sản phẩm ---\")\n",
    "        print(f\"Tên sản phẩm: {self.__ten_san_pham}\")\n",
    "        print(f\"Giá: {self.__gia}\")\n",
    "        print(f\"Giảm giá: {self.__giam_gia}\")\n",
    "        print(f\"Thuế nhập khẩu: {self.thue_nhap_khau()}\")\n",
    "\n",
    "# Tạo 2 sản phẩm bằng hàm khởi tạo\n",
    "if __name__ == \"__main__\":\n",
    "    sp1 = SanPham(\"Laptop \", 20000000, 1500000)\n",
    "    sp2 = SanPham(\"Điện thoại\", 15000000, 1000000)\n",
    "\n",
    "    sp1.xuat_tt_sp()\n",
    "    sp2.xuat_tt_sp()"
   ]
  },
  {
   "cell_type": "markdown",
   "id": "e2b41d4a",
   "metadata": {},
   "source": [
    "## Lab 5 - Bài 5: bài tập làm thêm"
   ]
  },
  {
   "cell_type": "code",
   "execution_count": null,
   "id": "0e0172f7",
   "metadata": {},
   "outputs": [],
   "source": [
    "# code lab 5  bài làm thêm ở đây "
   ]
  }
 ],
 "metadata": {
  "kernelspec": {
   "display_name": "Python 3",
   "language": "python",
   "name": "python3"
  },
  "language_info": {
   "codemirror_mode": {
    "name": "ipython",
    "version": 3
   },
   "file_extension": ".py",
   "mimetype": "text/x-python",
   "name": "python",
   "nbconvert_exporter": "python",
   "pygments_lexer": "ipython3",
   "version": "3.13.7"
  }
 },
 "nbformat": 4,
 "nbformat_minor": 5
}

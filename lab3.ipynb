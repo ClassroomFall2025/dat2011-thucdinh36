{
 "cells": [
  {
   "cell_type": "markdown",
   "id": "fdeff819",
   "metadata": {},
   "source": [
    "# Sinh Viên thực hiện Lab 3 ở Đây"
   ]
  },
  {
   "cell_type": "markdown",
   "id": "acc5d7dc",
   "metadata": {},
   "source": [
    "## Lab 3 - Bài 1"
   ]
  },
  {
   "cell_type": "code",
   "execution_count": 2,
   "id": "001e0507",
   "metadata": {},
   "outputs": [
    {
     "name": "stdout",
     "output_type": "stream",
     "text": [
      "Dãy số bạn đã nhập: [9, 59, 21, 90, 23, 19, 12, 77]\n",
      "\n",
      "Dãy số sắp xếp tăng dần: [9, 12, 19, 21, 23, 59, 77, 90]\n",
      "Giá trị nhỏ nhất: 9\n",
      "Giá trị lớn nhất: 90\n",
      "\n",
      "Dãy số sắp xếp giảm dần: [90, 77, 59, 23, 21, 19, 12, 9]\n",
      "Giá trị lớn nhất (trong sắp xếp giảm dần): 90\n",
      "Giá trị nhỏ nhất (trong sắp xếp giảm dần): 9\n",
      "\n",
      "Giá trị trung bình cộng các số chia hết cho 3: 33.0\n"
     ]
    }
   ],
   "source": [
    "# Code lab 3 bài 1 ở đây\n",
    "# khai báo dãy số ban đầu chưa có phần tử\n",
    "chuoi_nhap = input(\"Nhập dãy số (cách nhau bằng dấu cách): \")\n",
    "\n",
    "# Tách chuỗi thành danh sách số nguyên\n",
    "day_so = [int(x) for x in chuoi_nhap.split()]\n",
    "\n",
    "print(\"Dãy số bạn đã nhập:\", day_so)\n",
    "\n",
    "# -------------------------------\n",
    "# 1. Sắp xếp dãy số theo thứ tự tăng dần\n",
    "day_so.sort()\n",
    "print(\"\\nDãy số sắp xếp tăng dần:\", day_so)\n",
    "\n",
    "# Giá trị nhỏ nhất chính là phần tử đầu tiên\n",
    "print(\"Giá trị nhỏ nhất:\", day_so[0])\n",
    "\n",
    "# Giá trị lớn nhất chính là phần tử cuối cùng\n",
    "print(\"Giá trị lớn nhất:\", day_so[-1])\n",
    "\n",
    "# -------------------------------\n",
    "# 2. Sắp xếp dãy số theo thứ tự giảm dần\n",
    "day_so.sort(reverse=True)\n",
    "print(\"\\nDãy số sắp xếp giảm dần:\", day_so)\n",
    "\n",
    "print(\"Giá trị lớn nhất (trong sắp xếp giảm dần):\", day_so[0])\n",
    "print(\"Giá trị nhỏ nhất (trong sắp xếp giảm dần):\", day_so[-1])\n",
    "\n",
    "# -------------------------------\n",
    "# 3. Tính trung bình cộng các số chia hết cho 3\n",
    "tong = 0\n",
    "dem = 0\n",
    "\n",
    "for phan_tu in day_so:\n",
    "    if phan_tu % 3 == 0:   # kiểm tra chia hết cho 3\n",
    "        tong += phan_tu   # cộng vào tổng\n",
    "        dem += 1          # đếm thêm 1 số\n",
    "\n",
    "if dem != 0:\n",
    "    print(\"\\nGiá trị trung bình cộng các số chia hết cho 3:\", tong/dem)\n",
    "else:\n",
    "    print(\"\\nKhông có phần tử nào trong dãy số chia hết cho 3\")"
   ]
  },
  {
   "cell_type": "markdown",
   "id": "c0835310",
   "metadata": {},
   "source": [
    "## Lab 3 - Bài 2"
   ]
  },
  {
   "cell_type": "code",
   "execution_count": 5,
   "id": "fa9cb39f",
   "metadata": {},
   "outputs": [
    {
     "name": "stdout",
     "output_type": "stream",
     "text": [
      "Thoát chương trình\n",
      "Danh sách sinh viên: [{'ho_ten': 'Định', 'diem': 10.0, 'hoc_luc': 'Xuất sắc'}, {'ho_ten': 'Sang', 'diem': 8.0, 'hoc_luc': 'Giỏi'}, {'ho_ten': 'A', 'diem': 1.0, 'hoc_luc': 'Chưa đạt'}, {'ho_ten': 'C', 'diem': 6.0, 'hoc_luc': 'Trung bình'}]\n"
     ]
    }
   ],
   "source": [
    "# Code lab 3  bài 2 ở đây\n",
    "#sinhvien = {}\n",
    "#sinhvien[\"ho_ten\"] = input(\"Nhập họ tên: \")\n",
    "#sinhvien[\"diem\"] = float(input(\"Nhập điểm: \"))\n",
    "\n",
    "# điểm\n",
    "#if sinhvien[\"diem\"] < 5:\n",
    " #   sinhvien[\"xep_loai\"] = \"Yếu\"\n",
    "#elif sinhvien[\"diem\"] < 7:\n",
    " #   sinhvien[\"xep_loai\"] = \"Trung bình\"\n",
    "#elif sinhvien[\"diem\"] < 8:\n",
    " #   sinhvien[\"xep_loai\"] = \"Khá\"\n",
    "#elif sinhvien[\"diem\"] < 9:\n",
    " #   sinhvien[\"xep_loai\"] = \"Giỏi\"\n",
    "#else:\n",
    " #   sinhvien[\"xep_loai\"] = \"Xuất sắc\"\n",
    "\n",
    "# Xuất thông tin\n",
    "#print(\"\\n Thông tin sinh viên \")\n",
    "#print(\"Họ tên:\", sinhvien[\"ho_ten\"])\n",
    "#print(\"Điểm:\", sinhvien[\"diem\"])\n",
    "#print(\"Xếp loại:\", sinhvien[\"xep_loai\"])\n",
    "\n",
    "ds_sinhvien = []\n",
    "sinhvien = {}\n",
    "while True:\n",
    "    ho_ten = input(\"Nhập họ tên sinh viên (q để thoát): \")\n",
    "    if ho_ten == \"q\":\n",
    "        print(\"Thoát chương trình\")\n",
    "        break\n",
    "\n",
    "    diem = float(input(\"Nhập điểm: \"))\n",
    "\n",
    "    sinhvien = {}  # tạo dict mới cho mỗi sinh viên\n",
    "    sinhvien[\"ho_ten\"] = ho_ten\n",
    "    sinhvien[\"diem\"] = diem\n",
    "\n",
    "    if 9 <= diem <= 10:\n",
    "        hoc_luc = \"Xuất sắc\"\n",
    "    elif diem >= 8:\n",
    "        hoc_luc = \"Giỏi\"\n",
    "    elif diem >= 7:\n",
    "        hoc_luc = \"Khá\"\n",
    "    elif diem >= 5:\n",
    "        hoc_luc = \"Trung bình\"\n",
    "    else:\n",
    "        hoc_luc = \"Chưa đạt\"\n",
    "\n",
    "    sinhvien[\"hoc_luc\"] = hoc_luc\n",
    "    ds_sinhvien.append(sinhvien)\n",
    "\n",
    "print(\"Danh sách sinh viên:\", ds_sinhvien)\n",
    "\n",
    "    \n",
    "\n",
    "\n",
    "    "
   ]
  },
  {
   "cell_type": "markdown",
   "id": "0f2483fe",
   "metadata": {},
   "source": [
    "## Lab 3 - Bài 3"
   ]
  },
  {
   "cell_type": "code",
   "execution_count": 2,
   "id": "7034990b",
   "metadata": {},
   "outputs": [
    {
     "name": "stdout",
     "output_type": "stream",
     "text": [
      "9 không phải là số nguyên tố\n"
     ]
    }
   ],
   "source": [
    "# Code lab 3  bài 3 ở đây\n",
    "# Nhập số nguyên từ bàn phím\n",
    "n = int(input(\"Nhập số nguyên: \"))\n",
    "\n",
    "# Mặc định giả sử n là số nguyên tố\n",
    "ok = True\n",
    "i = 2\n",
    "\n",
    "# Nếu n < 2 thì chắc chắn không phải số nguyên tố\n",
    "if n < 2:\n",
    "    ok = False\n",
    "else:\n",
    "    while i < n:   # duyệt từ 2 đến n-1\n",
    "        if n % i == 0:   # nếu chia hết thì không phải số nguyên tố\n",
    "            ok = False\n",
    "            break\n",
    "        i += 1\n",
    "\n",
    "# In kết quả\n",
    "if ok:\n",
    "    print(n, \"là số nguyên tố\")\n",
    "else:\n",
    "    print(n, \"không phải là số nguyên tố\")"
   ]
  },
  {
   "cell_type": "markdown",
   "id": "d36ea3d3",
   "metadata": {},
   "source": [
    "## Lab 3 - Bài 4"
   ]
  },
  {
   "cell_type": "code",
   "execution_count": 1,
   "id": "4c707ec1",
   "metadata": {},
   "outputs": [
    {
     "name": "stdout",
     "output_type": "stream",
     "text": [
      "1 x 1 = 1\t2 x 1 = 2\t3 x 1 = 3\t4 x 1 = 4\t5 x 1 = 5\t6 x 1 = 6\t7 x 1 = 7\t8 x 1 = 8\t9 x 1 = 9\t\n",
      "1 x 2 = 2\t2 x 2 = 4\t3 x 2 = 6\t4 x 2 = 8\t5 x 2 = 10\t6 x 2 = 12\t7 x 2 = 14\t8 x 2 = 16\t9 x 2 = 18\t\n",
      "1 x 3 = 3\t2 x 3 = 6\t3 x 3 = 9\t4 x 3 = 12\t5 x 3 = 15\t6 x 3 = 18\t7 x 3 = 21\t8 x 3 = 24\t9 x 3 = 27\t\n",
      "1 x 4 = 4\t2 x 4 = 8\t3 x 4 = 12\t4 x 4 = 16\t5 x 4 = 20\t6 x 4 = 24\t7 x 4 = 28\t8 x 4 = 32\t9 x 4 = 36\t\n",
      "1 x 5 = 5\t2 x 5 = 10\t3 x 5 = 15\t4 x 5 = 20\t5 x 5 = 25\t6 x 5 = 30\t7 x 5 = 35\t8 x 5 = 40\t9 x 5 = 45\t\n",
      "1 x 6 = 6\t2 x 6 = 12\t3 x 6 = 18\t4 x 6 = 24\t5 x 6 = 30\t6 x 6 = 36\t7 x 6 = 42\t8 x 6 = 48\t9 x 6 = 54\t\n",
      "1 x 7 = 7\t2 x 7 = 14\t3 x 7 = 21\t4 x 7 = 28\t5 x 7 = 35\t6 x 7 = 42\t7 x 7 = 49\t8 x 7 = 56\t9 x 7 = 63\t\n",
      "1 x 8 = 8\t2 x 8 = 16\t3 x 8 = 24\t4 x 8 = 32\t5 x 8 = 40\t6 x 8 = 48\t7 x 8 = 56\t8 x 8 = 64\t9 x 8 = 72\t\n",
      "1 x 9 = 9\t2 x 9 = 18\t3 x 9 = 27\t4 x 9 = 36\t5 x 9 = 45\t6 x 9 = 54\t7 x 9 = 63\t8 x 9 = 72\t9 x 9 = 81\t\n"
     ]
    }
   ],
   "source": [
    "# code lab 3 bài 4 ở đây\n",
    "for i in range(1, 10):  \n",
    "    for j in range(1, 10):        \n",
    "        print(f\"{j} x {i} = {i*j}\", end=\"\\t\")\n",
    "    print()  # Xuống dòng sau khi in hết 1 hàng"
   ]
  },
  {
   "cell_type": "markdown",
   "id": "e2b41d4a",
   "metadata": {},
   "source": [
    "## Lab 3 - Bài 5: bài tập làm thêm"
   ]
  },
  {
   "cell_type": "code",
   "execution_count": null,
   "id": "0e0172f7",
   "metadata": {},
   "outputs": [],
   "source": [
    "# code lab 3  bài làm thêm ở đây \n",
    "import math\n",
    "import datetime\n",
    "\n",
    "menu = '''\\n\n",
    "0. Thoát chương trình\n",
    "1. Phép tính cơ bản: Cộng, trừ, nhân, chia\n",
    "2. Lũy thừa: Tính x^y\n",
    "3. Căn bậc hai: Tính √x\n",
    "4. Hàm lượng giác: Sin, cos, tan\n",
    "5. Logarit: Log cơ số 10, ln, log cơ số tùy chọn\n",
    "6. Giải phương trình bậc nhất\n",
    "7. Giải phương trình bậc 2\n",
    "8. Lịch sử: Lưu và xem lại các phép tính đã thực hiện\n",
    "9. Thời gian: Hiển thị thời gian hiện tại\n",
    "10. Giao diện thân thiện: Menu tiếng Việt\n",
    "'''\n",
    "while True:\n",
    "    print(menu)\n",
    "    lua_chon = input(\"Chọn chức năng chương trình: \")\n",
    "    match lua_chon:\n",
    "        case \"0\":\n",
    "            print(\"Thoát chương trình\")\n",
    "        case \"1\":\n",
    "            print(\"Phép tính cơ bản: Cộng, trừ, nhân, chia\")\n",
    "        case \"2\":\n",
    "            print(\"Lũy thừa: Tính x^y\")\n",
    "        case \"3\":\n",
    "            print(\"Căn bậc hai: Tính √x\")\n",
    "        case \"4\":\n",
    "            print(\"Hàm lượng giác: Sin, cos, tan\")\n",
    "        case \"5\":\n",
    "            print(\"Logarit: Log cơ số 10, ln, log cơ số tùy chọn\")\n",
    "        case \"6\":\n",
    "            print(\"Giải phương trình bậc 2\")\n",
    "        case \"7\":\n",
    "            print(\"Lịch sử: Lưu và xem lại các phép tính đã thực hiện\")\n",
    "        case \"8\":\n",
    "            print(\"Lịch sử: Lưu và xem lại các phép tính đã thực hiện\")\n",
    "        case \"9\":\n",
    "            print(\"Thời gian: Hiển thị thời gian hiện tại\")\n",
    "        case \"10\":\n",
    "            print(\"Giao diện thân thiện: Menu tiếng Việt\")\n",
    "        case _:\n",
    "            print(\"Chức năng không hợp lệ. Vui lòng chọn lại.\")\n",
    "    "
   ]
  }
 ],
 "metadata": {
  "kernelspec": {
   "display_name": "Python 3",
   "language": "python",
   "name": "python3"
  },
  "language_info": {
   "codemirror_mode": {
    "name": "ipython",
    "version": 3
   },
   "file_extension": ".py",
   "mimetype": "text/x-python",
   "name": "python",
   "nbconvert_exporter": "python",
   "pygments_lexer": "ipython3",
   "version": "3.13.7"
  }
 },
 "nbformat": 4,
 "nbformat_minor": 5
}

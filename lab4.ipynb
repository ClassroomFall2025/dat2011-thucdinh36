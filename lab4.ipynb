{
 "cells": [
  {
   "cell_type": "markdown",
   "id": "fdeff819",
   "metadata": {},
   "source": [
    "# Sinh Viên thực hiện Lab 4 ở Đây"
   ]
  },
  {
   "cell_type": "markdown",
   "id": "acc5d7dc",
   "metadata": {},
   "source": [
    "## Lab 1 - Bài 1"
   ]
  },
  {
   "cell_type": "code",
   "execution_count": 1,
   "id": "001e0507",
   "metadata": {},
   "outputs": [],
   "source": [
    "# Code lab 4 bài 1 ở đây\n",
    "def tinh_tien_nuoc(so_nuoc):\n",
    "    gia_ban_nuoc = (7500, 8800, 12000, 24000)\n",
    "    if so_nuoc<= 10:\n",
    "        tien_nuoc = so_nuoc * gia_ban_nuoc[0]\n",
    "    elif so_nuoc <= 20:\n",
    "        tien_nuoc = 10 * gia_ban_nuoc[0] + (so_nuoc - 10) * gia_ban_nuoc[1]\n",
    "    elif so_nuoc <=30:\n",
    "        tien_nuoc = 10 * gia_ban_nuoc[0] + 10 * gia_ban_nuoc[1] + (so_nuoc - 20) * gia_ban_nuoc[2]\n",
    "    else:\n",
    "        tien_nuoc = 10 * gia_ban_nuoc[0] + 10 * gia_ban_nuoc[1] + 10 * gia_ban_nuoc[2] + (so_nuoc - 30) * gia_ban_nuoc[3]\n",
    "    return tien_nuoc"
   ]
  },
  {
   "cell_type": "markdown",
   "id": "c0835310",
   "metadata": {},
   "source": [
    "## Lab 4 - Bài 2"
   ]
  },
  {
   "cell_type": "code",
   "execution_count": 2,
   "id": "fa9cb39f",
   "metadata": {},
   "outputs": [],
   "source": [
    "# Code lab 4  bài 2 ở đây\n",
    "def tinh_nguyen_lieu(sl_dx, sl_thcam, sl_bdeo):\n",
    "    banh_dau_xanh = {\"đường\": 0.04, \"đậu\":0.07}\n",
    "    banh_thap_cam = {\"đường\": 10.00, \"đậu\":0}\n",
    "    banh_deo = {\"đường\": 0.05, \"đậu\":0.02}\n",
    "    nguyen_lieu = {}\n",
    "    duong_hop_banh = sl_dx * banh_dau_xanh[\"duong\"] + sl_thcam * banh_thap_cam[\"duong\"] + sl_bdeo * banh_deo[\"duong\"]\n",
    "    dau_hop_banh = sl_dx * banh_dau_xanh[\"đậu\"] + sl_thcam * banh_thap_cam[\"đậu\"] + sl_bdeo * banh_deo[\"đậu\"]\n",
    "    nguyen_lieu[\"đường\"] = duong_hop_banh\n",
    "    nguyen_lieu[\"đậu\"] = dau_hop_banh\n",
    "    return nguyen_lieu"
   ]
  },
  {
   "cell_type": "markdown",
   "id": "0f2483fe",
   "metadata": {},
   "source": [
    "## Lab 4 - Bài 3"
   ]
  },
  {
   "cell_type": "code",
   "execution_count": 4,
   "id": "7034990b",
   "metadata": {},
   "outputs": [
    {
     "name": "stdout",
     "output_type": "stream",
     "text": [
      "Danh sách số chẵn là: [2]\n"
     ]
    }
   ],
   "source": [
    "# Code lab 4  bài 3 ở đây\n",
    "try:\n",
    "    # Nhập dãy số, cách nhau bằng dấu cách\n",
    "    my_list = list(map(int, input(\"Nhập dãy số nguyên (cách nhau bằng dấu cách): \").split()))\n",
    "\n",
    "    # Dùng filter + lambda để lọc số chẵn\n",
    "    new_list = list(filter(lambda x: x % 2 == 0, my_list))\n",
    "\n",
    "    print(\"Danh sách số chẵn là:\", new_list)\n",
    "\n",
    "except ValueError:\n",
    "    print(\"Lỗi: Bạn phải nhập số nguyên!\")"
   ]
  },
  {
   "cell_type": "markdown",
   "id": "d36ea3d3",
   "metadata": {},
   "source": [
    "## Lab 4 - Bài 4"
   ]
  },
  {
   "cell_type": "code",
   "execution_count": 2,
   "id": "4c707ec1",
   "metadata": {},
   "outputs": [
    {
     "name": "stdout",
     "output_type": "stream",
     "text": [
      "\n",
      "====== MENU ======\n",
      "1. Tính tiền nước sinh hoạt\n",
      "2. Tính nguyên liệu làm bánh\n",
      "3. Thoát\n",
      " Tiền nước phải trả: 75,000 VND\n",
      "\n",
      "====== MENU ======\n",
      "1. Tính tiền nước sinh hoạt\n",
      "2. Tính nguyên liệu làm bánh\n",
      "3. Thoát\n",
      " Thoát chương trình. Tạm biệt!\n"
     ]
    }
   ],
   "source": [
    "# code lab 4 bài 4 ở đây\n",
    "from LAB4 import tinh_tien_nuoc, tinh_nguyen_lieu\n",
    "\n",
    "while True:\n",
    "        print(\"\\n====== MENU ======\")\n",
    "        print(\"1. Tính tiền nước sinh hoạt\")\n",
    "        print(\"2. Tính nguyên liệu làm bánh\")\n",
    "        print(\"3. Thoát\")\n",
    "\n",
    "        try:\n",
    "            chon = int(input(\"Nhập lựa chọn (1-3): \"))\n",
    "        except ValueError:\n",
    "            print(\" Vui lòng nhập số từ 1 đến 3!\")\n",
    "            continue\n",
    "\n",
    "        if chon == 1:\n",
    "            so_m3 = int(input(\"Nhập số m³ nước: \"))\n",
    "            tien = tinh_tien_nuoc(so_m3)\n",
    "            print(f\" Tiền nước phải trả: {tien:,} VND\")\n",
    "\n",
    "        elif chon == 2:\n",
    "            sl_dx = int(input(\"Nhập số lượng bánh đậu xanh: \"))\n",
    "            sl_thcam = int(input(\"Nhập số lượng bánh thập cẩm: \"))\n",
    "            sl_bdeo = int(input(\"Nhập số lượng bánh dẻo: \"))\n",
    "\n",
    "            nguyen_lieu = tinh_nguyen_lieu(sl_dx, sl_thcam, sl_bdeo)\n",
    "            print(\"\\n Nguyên liệu cần chuẩn bị:\")\n",
    "            for key, val in nguyen_lieu.items():\n",
    "                print(f\"- {key}: {val:.2f} kg\")\n",
    "\n",
    "        elif chon == 3:\n",
    "            print(\" Thoát chương trình. Tạm biệt!\")\n",
    "            break\n",
    "\n",
    "        else:\n",
    "            print(\" Lựa chọn không hợp lệ. Nhập từ 1 đến 3.\")\n"
   ]
  },
  {
   "cell_type": "markdown",
   "id": "e2b41d4a",
   "metadata": {},
   "source": [
    "## Lab 4 - Bài 5: bài tập làm thêm"
   ]
  },
  {
   "cell_type": "code",
   "execution_count": null,
   "id": "0e0172f7",
   "metadata": {},
   "outputs": [
    {
     "data": {
      "text/plain": [
       "<module 'lab4' from 'd:\\\\DAT2011 Python\\\\code\\\\dat2011-thucdinh36\\\\lab4.py'>"
      ]
     },
     "execution_count": 23,
     "metadata": {},
     "output_type": "execute_result"
    }
   ],
   "source": [
    "# code lab 4  bài làm thêm ở đây \n",
    "\n"
   ]
  }
 ],
 "metadata": {
  "kernelspec": {
   "display_name": "Python 3",
   "language": "python",
   "name": "python3"
  },
  "language_info": {
   "codemirror_mode": {
    "name": "ipython",
    "version": 3
   },
   "file_extension": ".py",
   "mimetype": "text/x-python",
   "name": "python",
   "nbconvert_exporter": "python",
   "pygments_lexer": "ipython3",
   "version": "3.13.7"
  }
 },
 "nbformat": 4,
 "nbformat_minor": 5
}

{
 "cells": [
  {
   "cell_type": "code",
   "execution_count": 2,
   "id": "b04f4380",
   "metadata": {},
   "outputs": [
    {
     "name": "stdout",
     "output_type": "stream",
     "text": [
      "\n",
      "=== MENU QUẢN LÝ NHÂN SỰ ===\n",
      "1. Nhập danh sách nhân viên\n",
      "2. Xuất danh sách nhân viên\n",
      "3. Tìm nhân viên theo mã\n",
      "4. Xóa nhân viên theo mã\n",
      "5. Cập nhật thông tin nhân viên\n",
      "6. Tìm nhân viên theo khoảng lương\n",
      "7. Sắp xếp nhân viên theo họ và tên\n",
      "8. Sắp xếp nhân viên theo thu nhập\n",
      "9. Xuất 5 nhân viên có thu nhập cao nhất\n",
      "0. Thoát\n",
      ">>> Cập nhật thông tin nhân viên\n",
      "\n",
      "=== MENU QUẢN LÝ NHÂN SỰ ===\n",
      "1. Nhập danh sách nhân viên\n",
      "2. Xuất danh sách nhân viên\n",
      "3. Tìm nhân viên theo mã\n",
      "4. Xóa nhân viên theo mã\n",
      "5. Cập nhật thông tin nhân viên\n",
      "6. Tìm nhân viên theo khoảng lương\n",
      "7. Sắp xếp nhân viên theo họ và tên\n",
      "8. Sắp xếp nhân viên theo thu nhập\n",
      "9. Xuất 5 nhân viên có thu nhập cao nhất\n",
      "0. Thoát\n",
      ">>> Thoát chương trình. Tạm biệt!\n"
     ]
    }
   ],
   "source": [
    "# Giai đoạn 1 - DAT2011 Assignment\n",
    "# Menu Quản lý nhân sự Công ty Rồng Việt\n",
    "while True:\n",
    "    print(\"\\n=== MENU QUẢN LÝ NHÂN SỰ ===\")\n",
    "    print(\"1. Nhập danh sách nhân viên\")\n",
    "    print(\"2. Xuất danh sách nhân viên\")\n",
    "    print(\"3. Tìm nhân viên theo mã\")\n",
    "    print(\"4. Xóa nhân viên theo mã\")\n",
    "    print(\"5. Cập nhật thông tin nhân viên\")\n",
    "    print(\"6. Tìm nhân viên theo khoảng lương\")\n",
    "    print(\"7. Sắp xếp nhân viên theo họ và tên\")\n",
    "    print(\"8. Sắp xếp nhân viên theo thu nhập\")\n",
    "    print(\"9. Xuất 5 nhân viên có thu nhập cao nhất\")\n",
    "    print(\"0. Thoát\")\n",
    "    \n",
    "    chon = input(\"Nhập lựa chọn của bạn: \")\n",
    "\n",
    "    if chon == \"1\":\n",
    "        print(\">>> Nhập danh sách nhân viên\")\n",
    "    elif chon == \"2\":\n",
    "        print(\">>> Xuất danh sách nhân viên\")\n",
    "    elif chon == \"3\":\n",
    "        print(\">>> Tìm nhân viên theo mã\")\n",
    "    elif chon == \"4\":\n",
    "        print(\">>> Xóa nhân viên theo mã\")\n",
    "    elif chon == \"5\":\n",
    "        print(\">>> Cập nhật thông tin nhân viên\")\n",
    "    elif chon == \"6\":\n",
    "        print(\">>> Tìm nhân viên theo khoảng lương\")\n",
    "    elif chon == \"7\":\n",
    "        print(\">>> Sắp xếp nhân viên theo họ và tên\")\n",
    "    elif chon == \"8\":\n",
    "        print(\">>> Sắp xếp nhân viên theo thu nhập\")\n",
    "    elif chon == \"9\":\n",
    "        print(\">>> Xuất 5 nhân viên có thu nhập cao nhất\")\n",
    "    elif chon == \"0\":\n",
    "        print(\">>> Thoát chương trình. Tạm biệt!\")\n",
    "        break\n",
    "    else:\n",
    "        print(\">>> Lựa chọn không hợp lệ, vui lòng nhập lại!\")"
   ]
  }
 ],
 "metadata": {
  "kernelspec": {
   "display_name": "Python 3",
   "language": "python",
   "name": "python3"
  },
  "language_info": {
   "codemirror_mode": {
    "name": "ipython",
    "version": 3
   },
   "file_extension": ".py",
   "mimetype": "text/x-python",
   "name": "python",
   "nbconvert_exporter": "python",
   "pygments_lexer": "ipython3",
   "version": "3.13.7"
  }
 },
 "nbformat": 4,
 "nbformat_minor": 5
}

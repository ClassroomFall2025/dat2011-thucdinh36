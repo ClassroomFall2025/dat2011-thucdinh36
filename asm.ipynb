{
 "cells": [
  {
   "cell_type": "code",
   "execution_count": 1,
   "id": "b04f4380",
   "metadata": {},
   "outputs": [
    {
     "name": "stdout",
     "output_type": "stream",
     "text": [
      "\n",
      "=== MENU QUẢN LÝ NHÂN SỰ ===\n",
      "1. Nhập danh sách nhân viên\n",
      "2. Xuất danh sách nhân viên\n",
      "3. Tìm nhân viên theo mã\n",
      "4. Xóa nhân viên theo mã\n",
      "5. Cập nhật thông tin nhân viên\n",
      "6. Tìm nhân viên theo khoảng lương\n",
      "7. Sắp xếp nhân viên theo họ và tên\n",
      "8. Sắp xếp nhân viên theo thu nhập\n",
      "9. Xuất 5 nhân viên có thu nhập cao nhất\n",
      "0. Thoát\n",
      ">>> Cập nhật thông tin nhân viên\n"
     ]
    }
   ],
   "source": [
    "# Giai đoạn 1 - DAT2011 Assignment\n",
    "import asm\n",
    "asm.menu()"
   ]
  }
 ],
 "metadata": {
  "kernelspec": {
   "display_name": "Python 3",
   "language": "python",
   "name": "python3"
  },
  "language_info": {
   "codemirror_mode": {
    "name": "ipython",
    "version": 3
   },
   "file_extension": ".py",
   "mimetype": "text/x-python",
   "name": "python",
   "nbconvert_exporter": "python",
   "pygments_lexer": "ipython3",
   "version": "3.13.7"
  }
 },
 "nbformat": 4,
 "nbformat_minor": 5
}

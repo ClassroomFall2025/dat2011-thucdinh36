{
 "cells": [
  {
   "cell_type": "markdown",
   "id": "1ae09d7a",
   "metadata": {},
   "source": [
    "# OOP: Class & Object"
   ]
  },
  {
   "cell_type": "markdown",
   "id": "eb0c7f16",
   "metadata": {},
   "source": [
    "## Lập trình hướng đối tượng (OOP) là một kỹ thuật lập trình cho phép các lập trình viên tạo ra các đối tượng trong mã code, thực hiện việc trừu tượng hóa các đối tượng này"
   ]
  },
  {
   "cell_type": "markdown",
   "id": "6dc3569f",
   "metadata": {},
   "source": [
    "## Đối tượng được định nghĩa là những sự vật, sự việc có những tính chất, đặc tính, và hành động giống nhau được gom nhóm lại, tương tự như trong thực tế cuộc sống"
   ]
  },
  {
   "cell_type": "markdown",
   "id": "7c5654b2",
   "metadata": {},
   "source": [
    "## Một đối tượng bao gồm hai thông tin chính:\n",
    "1. Thuộc tính (Attribute): Là những thông tin hay đặc điểm của đối tượng.\n",
    "2. Phương thức (Method): Là những thao tác hay hành động mà đối tượng đó có thể thực hiện.\n",
    "Lớp (Class) là một kiểu dữ liệu bao gồm các thuộc tính và phương thức đã được định nghĩa từ trước, thể hiện sự trừu tượng hóa các đối tượng.\n",
    "Sự khác nhau giữa lớp và đối tượng là:\n"
   ]
  },
  {
   "cell_type": "markdown",
   "id": "6be377df",
   "metadata": {},
   "source": [
    "## • Lớp (Class): Chính là khuôn mẫu. Lớp là thành phần trong chương trình, có các thuộc tính và hành vi/phương thức.Ví dụ: Xe hơi là một lớp. Bản vẽ của ngôi nhà là một lớp.\n"
   ]
  },
  {
   "cell_type": "markdown",
   "id": "2f82bc18",
   "metadata": {},
   "source": [
    "## • Đối tượng (Object): Chính là một thể hiện cụ thể của khuôn mẫu đó. Đối tượng cũng có các thuộc tính và phương thức.\n",
    "### Ví dụ: Các hiệu xe hơi như Audi, Mazda... chính là đối tượng của lớp xe hơi. Ngôi nhà được xây dựng thực tế từ bản vẽ là đối tượng của lớp đó"
   ]
  },
  {
   "cell_type": "code",
   "execution_count": 9,
   "id": "1de06965",
   "metadata": {},
   "outputs": [],
   "source": [
    "# định nghĩa lớp con nguòi\n",
    "class ConNguoi:\n",
    "    # thuộc tính\n",
    "    ho_ten = \"\"\n",
    "    nam_Sinh = \"\"\n",
    "    so_cccd = \"\"\n",
    "\n",
    "    # phương thức\n",
    "    def nhap_thong_tin(self, ho_ten, nam_sinh,  so_cccd):\n",
    "        self.ho_ten = ho_ten\n",
    "        self.nam_sinh = nam_sinh\n",
    "        self.so_cccd = so_cccd\n",
    "    def xoa_thong_tin(self):\n",
    "        pass\n",
    "    def cap_nhat_thong_tin(self):\n",
    "       pass\n",
    "    def hien_thi_thong_tin(self):\n",
    "        print(f\"{self.ho_ten}, {self.nam_sinh}, {self.so_cccd}\")\n",
    "    "
   ]
  },
  {
   "cell_type": "code",
   "execution_count": 10,
   "id": "dcb79c14",
   "metadata": {},
   "outputs": [
    {
     "name": "stdout",
     "output_type": "stream",
     "text": [
      "Nguyễn Văn Anh Vũ, 1990, 123456789\n"
     ]
    }
   ],
   "source": [
    "# kiểm tra\n",
    "con_nguoi = ConNguoi()\n",
    "con_nguoi.nhap_thong_tin(\"Nguyễn Văn Anh Vũ\", \"1990\", \"123456789\")\n",
    "con_nguoi.hien_thi_thong_tin()"
   ]
  },
  {
   "cell_type": "markdown",
   "id": "3080a174",
   "metadata": {},
   "source": [
    "# định nghĩa lại lớp con nguòi trong python\n",
    "# Python hỗ trợ phương thức __init__ để khởi tạo đối tượng\n",
    "# thay vì phải gọi phương thức nhap_thong_tin() để gán giá trị cho các thuộc tính\n",
    "# Python cũng hỗ trợ phương thức __str__ để định nghĩa cách hiển thị đối tượng khi gọi hàm print()"
   ]
  },
  {
   "cell_type": "code",
   "execution_count": 14,
   "id": "2f75b1fb",
   "metadata": {},
   "outputs": [],
   "source": [
    "# định nghĩa lại lớp con nguòi trong python\n",
    "# Python hỗ trợ phương thức __init_ để khởi tạo đối tượng\n",
    "# thay vì phải gọi phương thức nhap_thong_tin() để gán giá trị cho các thuộc tính\n",
    "# Python cũng hỗ trợ phương thức __str__ để định nghĩa cách hiển thị đối tượng khi gọi hàm print()\n",
    "class ConNguoi:\n",
    "    # # thuộc tính\n",
    "    # ho_ten = \"\"\n",
    "    # nam_Sinh = \"\"\n",
    "    # so_cccd = \"\"\n",
    "\n",
    "    # phương thức\n",
    "    def __init__(self, ho_ten, nam_sinh,  so_cccd):\n",
    "        self.ho_ten = ho_ten\n",
    "        self.nam_sinh = nam_sinh\n",
    "        self.so_cccd = so_cccd\n",
    "    def xoa_thong_tin(self):\n",
    "        pass\n",
    "    def cap_nhat_thong_tin(self):\n",
    "       pass\n",
    "    # def hien_thi_thong_tin(self):\n",
    "    #     print(f\"{self.ho_ten}, {self.nam_sinh}, {self.so_cccd}\")\n",
    "    def __str__(self):\n",
    "        return f\"{self.ho_ten}, {self.nam_sinh}, {self.so_cccd}\""
   ]
  },
  {
   "cell_type": "code",
   "execution_count": 15,
   "id": "060c8414",
   "metadata": {},
   "outputs": [
    {
     "name": "stdout",
     "output_type": "stream",
     "text": [
      "Nguyễn Văn Anh Vũ, 1990, 123456789\n"
     ]
    }
   ],
   "source": [
    "con_nguoi = ConNguoi(\"Nguyễn Văn Anh Vũ\", \"1990\", \"123456789\")\n",
    "print(con_nguoi)"
   ]
  },
  {
   "cell_type": "markdown",
   "id": "88f7180d",
   "metadata": {},
   "source": [
    "# khai báo các thuộc tính public, protected và private"
   ]
  },
  {
   "cell_type": "markdown",
   "id": "10e53061",
   "metadata": {},
   "source": [
    "## khi khia báo các thuộc tính cho các lớp mặc định là pulic\n",
    "## ví du: ho_ten, nam_sinh\n",
    "## Khai báo các thuộc tính là protected\n",
    "## ví dụ: _ho_ten, _nam_sinh\n",
    "## khai báo các thuộc tính private\n",
    "## ví dụ: __ho_ten, __nam_sinh"
   ]
  },
  {
   "cell_type": "code",
   "execution_count": null,
   "id": "410e06da",
   "metadata": {},
   "outputs": [],
   "source": [
    "class ConNguoi:\n",
    "\n",
    "    # phương thức\n",
    "    def __init__(self, ho_ten, nam_sinh,  so_cccd):\n",
    "        self.ho_ten = ho_ten # public\n",
    "        self._nam_sinh = nam_sinh # protected\n",
    "        self.__so_cccd = so_cccd # private\n",
    "    def xoa_thong_tin(self):\n",
    "        pass\n",
    "    def cap_nhat_thong_tin(self):\n",
    "       pass\n",
    "    # def hien_thi_thong_tin(self):\n",
    "    #     print(f\"{self.ho_ten}, {self.nam_sinh}, {self.so_cccd}\")\n",
    "    def __str__(self):\n",
    "        return f\"{self.ho_ten}, {self._nam_sinh}, {self.__so_cccd}\""
   ]
  },
  {
   "cell_type": "markdown",
   "id": "42b8b2d6",
   "metadata": {},
   "source": [
    "## các thuộc tính nên khai báo private và để học hay sửa thông tin thì cung cấp\n",
    "## các getter và setter cho thuộc tính\n"
   ]
  },
  {
   "cell_type": "code",
   "execution_count": null,
   "id": "fa677241",
   "metadata": {},
   "outputs": [],
   "source": [
    "class ConNguoi:\n",
    "\n",
    "    # phương thức\n",
    "    def __init__(self, ho_ten, nam_sinh,  so_cccd):\n",
    "        self.ho_ten = ho_ten # public\n",
    "        self._nam_sinh = nam_sinh # protected\n",
    "        self.__so_cccd = so_cccd # private\n",
    "\n",
    "    def get_ho_ten(self):\n",
    "        return self.ho_ten\n",
    "    def set_ho_ten(self, ho_ten):\n",
    "        self.ho_ten = ho_ten\n",
    "\n",
    "    def get_nam_sinh(self):\n",
    "        return self._nam_sinh\n",
    "    def set_nam_sinh(self, nam_sinh):\n",
    "        self._nam_sinh = nam_sinh\n",
    "\n",
    "    def get_so_cccd(self):\n",
    "        return self.__so_cccd\n",
    "    def set_so_cccd(self, so_cccd):\n",
    "        self.__so_cccd = so_cccd\n",
    "\n",
    "    def xoa_thong_tin(self):\n",
    "        pass\n",
    "    def cap_nhat_thong_tin(self):\n",
    "       pass\n",
    "    # def hien_thi_thong_tin(self):\n",
    "    #     print(f\"{self.ho_ten}, {self.nam_sinh}, {self.so_cccd}\")\n",
    "    # def __str__(self):\n",
    "    #     return f\"{self.ho_ten}, {self._nam_sinh}, {self.__so_cccd}\"\n",
    "    def __str__(self):\n",
    "        return f\"{self.get_ho_ten}, {self.get_nam_sinh}, {self.get_so_cccd}\""
   ]
  },
  {
   "cell_type": "code",
   "execution_count": 17,
   "id": "82c6eb4c",
   "metadata": {},
   "outputs": [
    {
     "name": "stdout",
     "output_type": "stream",
     "text": [
      "Nguyễn Văn A, 2000, 123456789\n"
     ]
    }
   ],
   "source": [
    "# kiểm tra\n",
    "con_nguoi = ConNguoi(\"Nguyễn Văn A\", \"2000\", \"123456789\")\n",
    "print(con_nguoi)"
   ]
  },
  {
   "cell_type": "markdown",
   "id": "9036286c",
   "metadata": {},
   "source": [
    "# Kế thừa trong Python"
   ]
  },
  {
   "cell_type": "markdown",
   "id": "baa6a71e",
   "metadata": {},
   "source": [
    "## để kế thùa lớp từ lớp khác: class LopCon(LopCha):\n"
   ]
  },
  {
   "cell_type": "code",
   "execution_count": 21,
   "id": "8211ed5a",
   "metadata": {},
   "outputs": [],
   "source": [
    "class ConNguoi:\n",
    "\n",
    "    # phương thức\n",
    "    def __init__(self, ho_ten, nam_sinh,  so_cccd):\n",
    "        self.__ho_ten = ho_ten # public\n",
    "        self.__nam_sinh = nam_sinh # protected\n",
    "        self.__so_cccd = so_cccd # private\n",
    "\n",
    "   \n",
    "    def __str__(self):\n",
    "        return f\"{self.get_ho_ten}, {self.get_nam_sinh}, {self.get_so_cccd}\"\n",
    "\n",
    "# định nghĩa lớp sinh viên kế thừa từ lớp con người\n",
    "class SinhVien(ConNguoi):\n",
    " \n",
    "    # phương thức\n",
    "    def __init__(self, ho_ten, nam_sinh,  so_cccd, ma_sv, lop, khoa):\n",
    "        self.__ho_ten = ho_ten # public\n",
    "        self.__nam_sinh = nam_sinh # protected\n",
    "        self.__so_cccd = so_cccd # private\n",
    "        self.__ma_sv = ma_sv\n",
    "        self.__lop = lop\n",
    "        self.__khoa = khoa\n",
    "\n",
    "    def __str__(self):\n",
    "        return f\"{self.__ho_ten}, {self.__nam_sinh}, {self.__so_cccd}, {self.__ma_sv}, {self.__lop}, {self.__khoa}\"\n",
    "\n"
   ]
  },
  {
   "cell_type": "code",
   "execution_count": 22,
   "id": "7cf53946",
   "metadata": {},
   "outputs": [
    {
     "name": "stdout",
     "output_type": "stream",
     "text": [
      "Nguyễn Văn A, 2000, 123456789, PH12345, D20CQCN01, Công nghệ thông tin\n"
     ]
    }
   ],
   "source": [
    "# test\n",
    "sv = SinhVien(\"Nguyễn Văn A\", \"2000\", \"123456789\", \"PH12345\", \"D20CQCN01\", \"Công nghệ thông tin\")\n",
    "print(sv)"
   ]
  },
  {
   "cell_type": "code",
   "execution_count": 34,
   "id": "09c48138",
   "metadata": {},
   "outputs": [],
   "source": [
    "class ConNguoi:\n",
    "\n",
    "    # phương thức\n",
    "    def __init__(self, ho_ten, nam_sinh,  so_cccd):\n",
    "        self.__ho_ten = ho_ten # public\n",
    "        self.__nam_sinh = nam_sinh # protected\n",
    "        self.__so_cccd = so_cccd # private\n",
    "\n",
    "   \n",
    "    def __str__(self):\n",
    "        return f\"{self.__ho_ten}, {self.__nam_sinh}, {self.__so_cccd}\"\n",
    "\n",
    "# định nghĩa lớp sinh viên kế thừa từ lớp con người\n",
    "class SinhVien(ConNguoi):\n",
    " \n",
    "    # phương thức\n",
    "    def __init__(self, ho_ten, nam_sinh,  so_cccd, ma_sv, lop, khoa):\n",
    "        ConNguoi.__init__(self, ho_ten, nam_sinh,  so_cccd)\n",
    "        self.__ma_sv = ma_sv\n",
    "        self.__lop = lop\n",
    "        self.__khoa = khoa\n",
    "\n",
    "    def __str__(self):\n",
    "        return f'{ConNguoi.__str__(self)}, {self.__ma_sv}, {self.__lop}, {self.__khoa}'\n",
    "\n"
   ]
  },
  {
   "cell_type": "code",
   "execution_count": 35,
   "id": "a6ddc862",
   "metadata": {},
   "outputs": [
    {
     "name": "stdout",
     "output_type": "stream",
     "text": [
      "Nguyễn Văn A, 2000, 123456789, PH12345, D20CQCN01, Công nghệ thông tin\n"
     ]
    }
   ],
   "source": [
    "sv = SinhVien(\"Nguyễn Văn A\", \"2000\", \"123456789\", \"PH12345\", \"D20CQCN01\", \"Công nghệ thông tin\")\n",
    "print(sv)"
   ]
  },
  {
   "cell_type": "markdown",
   "id": "c47fb102",
   "metadata": {},
   "source": [
    "# python hỗ trô phương thức super(), khi sử dụng phương thức super thì từ khóa self không cần sử dụng trong phương thức"
   ]
  },
  {
   "cell_type": "code",
   "execution_count": null,
   "id": "7379ae07",
   "metadata": {},
   "outputs": [],
   "source": [
    "class ConNguoi:\n",
    "\n",
    "    # phương thức\n",
    "    def __init__(self, ho_ten, nam_sinh,  so_cccd):\n",
    "        self.__ho_ten = ho_ten # public\n",
    "        self.__nam_sinh = nam_sinh # protected\n",
    "        self.__so_cccd = so_cccd # private\n",
    "\n",
    "   \n",
    "    def __str__(self):\n",
    "        return f\"{self.__ho_ten}, {self.__nam_sinh}, {self.__so_cccd}\"\n",
    "\n",
    "# định nghĩa lớp sinh viên kế thừa từ lớp con người\n",
    "class SinhVien(ConNguoi):\n",
    " \n",
    "    # phương thức\n",
    "    def __init__(self, ho_ten, nam_sinh,  so_cccd, ma_sv, lop, khoa):\n",
    "        super().__init__( ho_ten, nam_sinh,  so_cccd)\n",
    "        self.__ma_sv = ma_sv\n",
    "        self.__lop = lop\n",
    "        self.__khoa = khoa\n",
    "\n",
    "    def __str__(self):\n",
    "        return f'{super().__str__()}, {self.__ma_sv}, {self.__lop}, {self.__khoa}'"
   ]
  },
  {
   "cell_type": "code",
   "execution_count": 37,
   "id": "1d4eb7fa",
   "metadata": {},
   "outputs": [
    {
     "name": "stdout",
     "output_type": "stream",
     "text": [
      "Nguyễn Văn A, 2000, 123456789, PH12345, D20CQCN01, Công nghệ thông tin\n"
     ]
    }
   ],
   "source": [
    "sv = SinhVien(\"Nguyễn Văn A\", \"2000\", \"123456789\", \"PH12345\", \"D20CQCN01\", \"Công nghệ thông tin\")\n",
    "print(sv)"
   ]
  },
  {
   "cell_type": "markdown",
   "id": "b7ea189b",
   "metadata": {},
   "source": [
    "# Lớp con có thể thừa kế tất cả thuộc tính và phương thức của lớp cha, đồng thời có thể thêm hoặc ghi đè (override) những gì mình muốn.\n",
    "# trừ các thuộc tính/method private \n"
   ]
  },
  {
   "cell_type": "code",
   "execution_count": 43,
   "id": "b8907347",
   "metadata": {},
   "outputs": [],
   "source": [
    "class ConNguoi:\n",
    "\n",
    "    # phương thức\n",
    "    def __init__(self, ho_ten, nam_sinh,  so_cccd):\n",
    "        self.__ho_ten = ho_ten # public\n",
    "        self.__nam_sinh = nam_sinh # protected\n",
    "        self.__so_cccd = so_cccd # private\n",
    "\n",
    "   \n",
    "    def __str__(self):\n",
    "        return f\"{self.__ho_ten}, {self.__nam_sinh}, {self.__so_cccd}\"\n",
    "\n",
    "class NhanVien(ConNguoi):\n",
    "    def __init__(self, ho_ten, nam_sinh,  so_cccd, ma_nv, phong_ban, luong_cb):\n",
    "        super().__init__( ho_ten, nam_sinh,  so_cccd)\n",
    "        self.__ma_nv = ma_nv\n",
    "        self.__phong_ban = phong_ban\n",
    "        self.__luong = luong_cb\n",
    "\n",
    "    def get_thu_nhap(self):\n",
    "        return self.__luong\n",
    "    \n",
    "    def __str__(self):\n",
    "        return f'{super().__str__()}, {self.__ma_nv}, {self.__luong}, {self.__phong_ban},{self.get_thu_nhap()}'"
   ]
  },
  {
   "cell_type": "code",
   "execution_count": 44,
   "id": "4ec94a23",
   "metadata": {},
   "outputs": [
    {
     "name": "stdout",
     "output_type": "stream",
     "text": [
      "Nguyễn Văn B, 1990, 987654321, NV001, 15000000, Phòng Kinh Doanh,15000000\n"
     ]
    }
   ],
   "source": [
    "nhan_vien = NhanVien(\"Nguyễn Văn B\", \"1990\", \"987654321\", \"NV001\", \"Phòng Kinh Doanh\", 15000000)\n",
    "print(nhan_vien)"
   ]
  },
  {
   "cell_type": "code",
   "execution_count": 46,
   "id": "8aea7fed",
   "metadata": {},
   "outputs": [],
   "source": [
    "class ConNguoi:\n",
    "\n",
    "    # phương thức\n",
    "    def __init__(self, ho_ten, nam_sinh,  so_cccd):\n",
    "        self.__ho_ten = ho_ten # public\n",
    "        self.__nam_sinh = nam_sinh # protected\n",
    "        self.__so_cccd = so_cccd # private\n",
    "\n",
    "   \n",
    "    def __str__(self):\n",
    "        return f\"{self.__ho_ten}, {self.__nam_sinh}, {self.__so_cccd}\"\n",
    "\n",
    "class NhanVien(ConNguoi):\n",
    "    def __init__(self, ho_ten, nam_sinh,  so_cccd, ma_nv, phong_ban, luong_cb):\n",
    "        super().__init__( ho_ten, nam_sinh,  so_cccd)\n",
    "        self.__ma_nv = ma_nv\n",
    "        self.__phong_ban = phong_ban\n",
    "        self.__luong = luong_cb\n",
    "\n",
    "    def get_thu_nhap(self):\n",
    "        return self.__luong\n",
    "    \n",
    "    def __str__(self):\n",
    "        return f'{super().__str__()}, {self.__ma_nv}, {self.__luong}, {self.__phong_ban},{self.get_thu_nhap()}'\n",
    "class NhanVienTP(NhanVien):\n",
    "    def __init__(self, ho_ten, nam_sinh,  so_cccd, ma_nv, phong_ban, luong_cb, phu_cap):\n",
    "        super().__init__( ho_ten, nam_sinh,  so_cccd, ma_nv, phong_ban, luong_cb)\n",
    "        self.__phu_cap = phu_cap\n",
    "\n",
    "    def get_thu_nhap(self):\n",
    "        return super().get_thu_nhap() + self.__phu_cap\n",
    "    \n",
    "    def __str__(self):\n",
    "        return f'{super().__str__()}, {self.__phu_cap}, {self.get_thu_nhap()}'"
   ]
  },
  {
   "cell_type": "code",
   "execution_count": 47,
   "id": "57533bc0",
   "metadata": {},
   "outputs": [
    {
     "name": "stdout",
     "output_type": "stream",
     "text": [
      "Nguyễn Văn C, 1985, 456789123, NV002, 20000000, Phòng Kinh Doanh,25000000, 5000000, 25000000\n"
     ]
    }
   ],
   "source": [
    "nhan_vien_tp = NhanVienTP(\"Nguyễn Văn C\", \"1985\", \"456789123\", \"NV002\", \"Phòng Kinh Doanh\", 20000000, 5000000)\n",
    "print(nhan_vien_tp)"
   ]
  },
  {
   "cell_type": "markdown",
   "id": "70c89f12",
   "metadata": {},
   "source": [
    "Dùng phương thức readlines"
   ]
  },
  {
   "cell_type": "code",
   "execution_count": 5,
   "id": "fdfce9c4",
   "metadata": {},
   "outputs": [
    {
     "name": "stdout",
     "output_type": "stream",
     "text": [
      "['Tự nguyện\\n', 'Trương Quốc Khánh\\n', 'Nếu là chim, tôi sẽ là loài bồ câu trắng\\n', 'Nếu là hoa, tôi sẽ là một đóa hướng dương\\n', 'Nếu là mây, tôi sẽ là một vầng mây ấm\\n', 'Là người, tôi sẽ chết cho quê hương.\\n', '\\n', 'Là chim, tôi sẽ cất cao đôi cánh mềm\\n', 'Từ nam ra ngoài bắc báo tin nối liền\\n', 'Là hoa, tôi nở tình yêu ban sớm\\n', 'Cùng muôn trái tim ngất ngây hoà bình.\\n', '\\n', 'Là mây, theo làn gió tung bay khắp trời\\n', 'Nghìn xưa oai hùng đó tôi xin tiếp lời\\n', 'Là người, xin một lần khi nằm xuống\\n', 'Nhìn anh em đứng lên phất cao ngọn cờ.']\n"
     ]
    }
   ],
   "source": [
    "file = open(\"Resource.txt\", \"r\", encoding=\"utf-8\")\n",
    "dong = file.readlines()\n",
    "print(dong)"
   ]
  }
 ],
 "metadata": {
  "kernelspec": {
   "display_name": "Python 3",
   "language": "python",
   "name": "python3"
  },
  "language_info": {
   "codemirror_mode": {
    "name": "ipython",
    "version": 3
   },
   "file_extension": ".py",
   "mimetype": "text/x-python",
   "name": "python",
   "nbconvert_exporter": "python",
   "pygments_lexer": "ipython3",
   "version": "3.13.7"
  }
 },
 "nbformat": 4,
 "nbformat_minor": 5
}

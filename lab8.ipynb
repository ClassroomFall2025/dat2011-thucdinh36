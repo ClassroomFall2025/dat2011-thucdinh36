{
 "cells": [
  {
   "cell_type": "markdown",
   "id": "fdeff819",
   "metadata": {},
   "source": [
    "# Sinh Viên thực hiện Lab 8 ở Đây"
   ]
  },
  {
   "cell_type": "markdown",
   "id": "acc5d7dc",
   "metadata": {},
   "source": [
    "## Lab 8 - Bài 1"
   ]
  },
  {
   "cell_type": "code",
   "execution_count": 10,
   "id": "001e0507",
   "metadata": {},
   "outputs": [
    {
     "name": "stdout",
     "output_type": "stream",
     "text": [
      "Họ: DOÃN\n",
      "Tên đệm: Thúc\n",
      "Tên: ĐỊNH\n"
     ]
    }
   ],
   "source": [
    "# Code lab 8 bài 1 ở đây\n",
    "full_name = input(\"Nhập họ và tên: \").strip()\n",
    "parts = full_name.split()\n",
    "\n",
    "if len(parts) == 1:\n",
    "    print(\"Tên:\", parts[0].upper())\n",
    "elif len(parts) == 2:\n",
    "    print(\"Họ:\", parts[0].upper())\n",
    "    print(\"Tên:\", parts[1].upper())\n",
    "else:\n",
    "    print(\"Họ:\", parts[0].upper())\n",
    "    print(\"Tên đệm:\", \" \".join(parts[1:-1]))\n",
    "    print(\"Tên:\", parts[-1].upper())"
   ]
  },
  {
   "cell_type": "markdown",
   "id": "c0835310",
   "metadata": {},
   "source": [
    "## Lab 8 - Bài 2"
   ]
  },
  {
   "cell_type": "code",
   "execution_count": null,
   "id": "fa9cb39f",
   "metadata": {},
   "outputs": [
    {
     "name": "stdout",
     "output_type": "stream",
     "text": [
      "Số điện thoại không hợp lệ. Ví dụ hợp lệ: 0912345678 hoặc +84912345678\n",
      "\n",
      "✅ Thông tin sinh viên hợp lệ:\n",
      "Họ tên: Doãn Thúc Định\n",
      "Email: doandinh22@gmail.com\n",
      "SĐT: 0987654321\n",
      "CMND: 098765432123\n"
     ]
    }
   ],
   "source": [
    "# Code lab 8  bài 2 ở đây\n",
    "import re\n",
    "\n",
    "# Biểu thức kiểm tra\n",
    "email_pattern = r'^[\\w\\.-]+@[\\w\\.-]+\\.\\w+$'\n",
    "phone_pattern = r'^(0|\\+84)\\d{9}$'\n",
    "cmnd_pattern = r'^\\d{9,12}$'\n",
    "\n",
    "student = {}\n",
    "\n",
    "student['Họ tên'] = input(\"Nhập họ tên: \")\n",
    "\n",
    "while True:\n",
    "    email = input(\"Nhập email: \")\n",
    "    if re.match(email_pattern, email):\n",
    "        student['Email'] = email\n",
    "        break\n",
    "    else:\n",
    "        print(\"Email không hợp lệ. Ví dụ hợp lệ: ten@gmail.com\")\n",
    "\n",
    "while True:\n",
    "    phone = input(\"Nhập số điện thoại: \")\n",
    "    if re.match(phone_pattern, phone):\n",
    "        student['SĐT'] = phone\n",
    "        break\n",
    "    else:\n",
    "        print(\"Số điện thoại không hợp lệ. Ví dụ hợp lệ: 0912345678 hoặc +84912345678\")\n",
    "\n",
    "while True:\n",
    "    cmnd = input(\"Nhập CMND/CCCD: \")\n",
    "    if re.match(cmnd_pattern, cmnd):\n",
    "        student['CMND'] = cmnd\n",
    "        break\n",
    "    else:\n",
    "        print(\"CMND không hợp lệ (phải gồm 9–12 chữ số).\")\n",
    "\n",
    "print(\"\\n Thông tin sinh viên hợp lệ:\")\n",
    "for k, v in student.items():\n",
    "    print(f\"{k}: {v}\")"
   ]
  },
  {
   "cell_type": "markdown",
   "id": "0f2483fe",
   "metadata": {},
   "source": [
    "## Lab 8 - Bài 3"
   ]
  },
  {
   "cell_type": "code",
   "execution_count": 13,
   "id": "7034990b",
   "metadata": {},
   "outputs": [
    {
     "name": "stdout",
     "output_type": "stream",
     "text": [
      "Đã ghi 1 triệu số ngẫu nhiên vào file numbers.txt\n"
     ]
    }
   ],
   "source": [
    "# Code lab 8  bài 3 ở đây\n",
    "import random\n",
    "\n",
    "with open(\"lab8-numbers.txt\", \"w\") as f:\n",
    "    numbers = [str(random.randint(0, 100)) for _ in range(1_000_000)]\n",
    "    f.write(\" \".join(numbers))\n",
    "\n",
    "print(\"Đã ghi 1 triệu số ngẫu nhiên vào file numbers.txt\")"
   ]
  },
  {
   "cell_type": "markdown",
   "id": "d36ea3d3",
   "metadata": {},
   "source": [
    "## Lab 8 - Bài 4"
   ]
  },
  {
   "cell_type": "code",
   "execution_count": 14,
   "id": "4c707ec1",
   "metadata": {},
   "outputs": [
    {
     "name": "stdout",
     "output_type": "stream",
     "text": [
      "Trung bình: 50.03\n",
      "Độ lệch chuẩn: 29.14\n"
     ]
    }
   ],
   "source": [
    "# code lab 8 bài 4 ở đây\n",
    "import statistics\n",
    "\n",
    "with open(\"lab8-numbers.txt\", \"r\") as f:\n",
    "    data = list(map(int, f.read().split()))\n",
    "\n",
    "mean_val = statistics.mean(data)\n",
    "std_dev = statistics.stdev(data)\n",
    "\n",
    "print(f\"Trung bình: {mean_val:.2f}\")\n",
    "print(f\"Độ lệch chuẩn: {std_dev:.2f}\")"
   ]
  },
  {
   "cell_type": "markdown",
   "id": "e2b41d4a",
   "metadata": {},
   "source": [
    "## Lab 8 - Bài 5: bài tập làm thêm"
   ]
  },
  {
   "cell_type": "code",
   "execution_count": null,
   "id": "0e0172f7",
   "metadata": {},
   "outputs": [],
   "source": [
    "# code lab 8  bài làm thêm ở đây "
   ]
  }
 ],
 "metadata": {
  "kernelspec": {
   "display_name": "Python 3",
   "language": "python",
   "name": "python3"
  },
  "language_info": {
   "name": "python",
   "version": "3.13.7"
  }
 },
 "nbformat": 4,
 "nbformat_minor": 5
}

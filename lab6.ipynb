{
 "cells": [
  {
   "cell_type": "markdown",
   "id": "fdeff819",
   "metadata": {},
   "source": [
    "# Sinh Viên thực hiện Lab 6 ở Đây"
   ]
  },
  {
   "cell_type": "markdown",
   "id": "acc5d7dc",
   "metadata": {},
   "source": [
    "## Lab 6 - Bài 1"
   ]
  },
  {
   "cell_type": "code",
   "execution_count": 2,
   "id": "001e0507",
   "metadata": {},
   "outputs": [
    {
     "name": "stdout",
     "output_type": "stream",
     "text": [
      "Chiều dài: 4, Chiều rộng: 6\n",
      "Diện tích: 24, Chu vi: 20\n",
      "Chiều dài: 3, Chiều rộng: 5\n",
      "Diện tích: 15, Chu vi: 16\n",
      "Cạnh hình vuông: 4\n",
      "Diện tích: 16, Chu vi: 16\n"
     ]
    }
   ],
   "source": [
    "# Code lab 6 bài 1 ở đây\n",
    "class ChuNhat:\n",
    "    def __init__(self, dai, rong):\n",
    "        self.dai = dai\n",
    "        self.rong = rong\n",
    "    def get_chu_vi(self):\n",
    "        return 2 * (self.dai + self.rong)\n",
    "    def get_dien_tich(self):\n",
    "        return self.dai * self.rong\n",
    "    def xuat(self):\n",
    "        print(f\"Chiều dài: {self.dai}, Chiều rộng: {self.rong}\")\n",
    "        print(f\"Diện tích: {self.get_dien_tich()}, Chu vi: {self.get_chu_vi()}\")\n",
    "\n",
    "class Vuong(ChuNhat):\n",
    "    def __init__(self, canh):\n",
    "        super().__init__(canh, canh)\n",
    "    def xuat(self):\n",
    "        print(f\"Cạnh hình vuông: {self.dai}\")\n",
    "        print(f\"Diện tích: {self.get_dien_tich()}, Chu vi: {self.get_chu_vi()}\")\n",
    "\n",
    "cn1 = ChuNhat(4, 6)\n",
    "cn2 = ChuNhat(3, 5)\n",
    "vu = Vuong(4)\n",
    "\n",
    "cn1.xuat()\n",
    "cn2.xuat()\n",
    "vu.xuat()"
   ]
  },
  {
   "cell_type": "markdown",
   "id": "c0835310",
   "metadata": {},
   "source": [
    "## Lab 6 - Bài 2"
   ]
  },
  {
   "cell_type": "code",
   "execution_count": 3,
   "id": "fa9cb39f",
   "metadata": {},
   "outputs": [],
   "source": [
    "# Code lab 6  bài 2 ở đây\n",
    "class SinhVienPoly:\n",
    "    def __init__(self, ho_ten, nganh_hoc):\n",
    "        self.ho_ten = ho_ten\n",
    "        self.nganh_hoc = nganh_hoc\n",
    "\n",
    "    def get_diem(self):\n",
    "        pass\n",
    "\n",
    "    def get_hoc_luc(self):\n",
    "        diem = self.get_diem()\n",
    "        if 9 <= diem <= 10:\n",
    "            return \"Xuất sắc\"\n",
    "        elif diem >= 8:\n",
    "            return \"Giỏi\"\n",
    "        elif diem >= 7:\n",
    "            return \"Khá\"\n",
    "        elif diem >= 5:\n",
    "            return \"Trung bình\"\n",
    "        else:\n",
    "            return \"Yếu\"\n",
    "\n",
    "    def __str__(self):\n",
    "        return f\"{self.ho_ten}, {self.nganh_hoc}, Điểm TB: {self.get_diem():.2f}, Học lực: {self.get_hoc_luc()}\"\n",
    "    def xuat(self):\n",
    "        print(f\"{self.ho_ten}, {self.nganh_hoc}, Điểm TB: {self.get_diem():.2f}, Học lực: {self.get_hoc_luc()}\")\n"
   ]
  },
  {
   "cell_type": "markdown",
   "id": "0f2483fe",
   "metadata": {},
   "source": [
    "## Lab 6 - Bài 3"
   ]
  },
  {
   "cell_type": "code",
   "execution_count": 4,
   "id": "7034990b",
   "metadata": {},
   "outputs": [],
   "source": [
    "# Code lab 6  bài 3 ở đây\n",
    "class SinhVienIT(SinhVienPoly):\n",
    "    def __init__(self, ho_ten, diem_java, diem_html, diem_css):\n",
    "        super().__init__(ho_ten, \"IT\")\n",
    "        self.diem_java = diem_java\n",
    "        self.diem_html = diem_html\n",
    "        self.diem_css = diem_css\n",
    "\n",
    "    def get_diem(self):\n",
    "        return (self.diem_java * 2 + self.diem_html + self.diem_css) / 4\n",
    "\n",
    "\n",
    "class SinhVienBiz(SinhVienPoly):\n",
    "    def __init__(self, ho_ten, diem_marketing, diem_sales):\n",
    "        super().__init__(ho_ten, \"Biz\")\n",
    "        self.diem_marketing = diem_marketing\n",
    "        self.diem_sales = diem_sales\n",
    "\n",
    "    def get_diem(self):\n",
    "        return (self.diem_marketing * 2 + self.diem_sales) / 3"
   ]
  },
  {
   "cell_type": "markdown",
   "id": "d36ea3d3",
   "metadata": {},
   "source": [
    "## Lab 6 - Bài 4"
   ]
  },
  {
   "cell_type": "code",
   "execution_count": 1,
   "id": "4c707ec1",
   "metadata": {},
   "outputs": [
    {
     "name": "stdout",
     "output_type": "stream",
     "text": [
      "\n",
      "===== MENU QUẢN LÝ SINH VIÊN =====\n",
      "1. Nhập danh sách sinh viên\n",
      "2. Xuất thông tin danh sách sinh viên\n",
      "3. Xuất danh sách sinh viên có học lực giỏi\n",
      "4. Sắp xếp danh sách sinh viên theo điểm\n",
      "5. Kết thúc\n",
      "Kết thúc nhập.\n",
      "\n",
      "===== MENU QUẢN LÝ SINH VIÊN =====\n",
      "1. Nhập danh sách sinh viên\n",
      "2. Xuất thông tin danh sách sinh viên\n",
      "3. Xuất danh sách sinh viên có học lực giỏi\n",
      "4. Sắp xếp danh sách sinh viên theo điểm\n",
      "5. Kết thúc\n",
      "\n",
      "--- DANH SÁCH SINH VIÊN ---\n",
      "A, IT, Điểm TB: 8.00, Học lực: Giỏi\n",
      "B, Biz, Điểm TB: 8.33, Học lực: Giỏi\n",
      "\n",
      "===== MENU QUẢN LÝ SINH VIÊN =====\n",
      "1. Nhập danh sách sinh viên\n",
      "2. Xuất thông tin danh sách sinh viên\n",
      "3. Xuất danh sách sinh viên có học lực giỏi\n",
      "4. Sắp xếp danh sách sinh viên theo điểm\n",
      "5. Kết thúc\n",
      "\n",
      "--- SINH VIÊN CÓ HỌC LỰC GIỎI ---\n",
      "A, IT, Điểm TB: 8.00, Học lực: Giỏi\n",
      "B, Biz, Điểm TB: 8.33, Học lực: Giỏi\n",
      "\n",
      "===== MENU QUẢN LÝ SINH VIÊN =====\n",
      "1. Nhập danh sách sinh viên\n",
      "2. Xuất thông tin danh sách sinh viên\n",
      "3. Xuất danh sách sinh viên có học lực giỏi\n",
      "4. Sắp xếp danh sách sinh viên theo điểm\n",
      "5. Kết thúc\n",
      "\n",
      "--- SINH VIÊN CÓ HỌC LỰC GIỎI ---\n",
      "A, IT, Điểm TB: 8.00, Học lực: Giỏi\n",
      "B, Biz, Điểm TB: 8.33, Học lực: Giỏi\n",
      "\n",
      "===== MENU QUẢN LÝ SINH VIÊN =====\n",
      "1. Nhập danh sách sinh viên\n",
      "2. Xuất thông tin danh sách sinh viên\n",
      "3. Xuất danh sách sinh viên có học lực giỏi\n",
      "4. Sắp xếp danh sách sinh viên theo điểm\n",
      "5. Kết thúc\n",
      "Đã sắp xếp danh sách sinh viên theo điểm giảm dần.\n",
      "B, Biz, Điểm TB: 8.33, Học lực: Giỏi\n",
      "A, IT, Điểm TB: 8.00, Học lực: Giỏi\n",
      "\n",
      "===== MENU QUẢN LÝ SINH VIÊN =====\n",
      "1. Nhập danh sách sinh viên\n",
      "2. Xuất thông tin danh sách sinh viên\n",
      "3. Xuất danh sách sinh viên có học lực giỏi\n",
      "4. Sắp xếp danh sách sinh viên theo điểm\n",
      "5. Kết thúc\n",
      "Kết thúc chương trình.\n"
     ]
    }
   ],
   "source": [
    "# code lab 6 bài 4 ở đây\n",
    "from quanlysinhvien import QuanLySinhVien\n",
    "\n",
    "ql = QuanLySinhVien()\n",
    "\n",
    "menu = {\n",
    "    \"1\": \"Nhập danh sách sinh viên\",\n",
    "    \"2\": \"Xuất thông tin danh sách sinh viên\",\n",
    "    \"3\": \"Xuất danh sách sinh viên có học lực giỏi\",\n",
    "    \"4\": \"Sắp xếp danh sách sinh viên theo điểm\",\n",
    "    \"5\": \"Kết thúc\"\n",
    "}\n",
    "\n",
    "while True:\n",
    "    print(\"\\n===== MENU QUẢN LÝ SINH VIÊN =====\")\n",
    "    for k, v in menu.items():\n",
    "        print(f\"{k}. {v}\")\n",
    "\n",
    "    lua_chon = input(\"Nhập lựa chọn của bạn: \")\n",
    "\n",
    "    match lua_chon:\n",
    "        case \"1\":\n",
    "            ql.nhap_dssv()\n",
    "        case \"2\":\n",
    "            ql.xuat_dssv()\n",
    "        case \"3\":\n",
    "            ql.xuat_dssv_gioi()\n",
    "        case \"4\":\n",
    "            ql.sap_xep_dssv()\n",
    "        case \"5\":\n",
    "            print(\"Kết thúc chương trình.\")\n",
    "            break\n",
    "        case _:\n",
    "            print(\"Lựa chọn không hợp lệ, vui lòng nhập lại.\")\n"
   ]
  },
  {
   "cell_type": "markdown",
   "id": "e2b41d4a",
   "metadata": {},
   "source": [
    "## Lab 6 - Bài 5: bài tập làm thêm"
   ]
  },
  {
   "cell_type": "code",
   "execution_count": null,
   "id": "0e0172f7",
   "metadata": {},
   "outputs": [
    {
     "name": "stdout",
     "output_type": "stream",
     "text": [
      "Xin chào, định\n"
     ]
    }
   ],
   "source": [
    "# code lab 6  bài làm thêm ở đây \n"
   ]
  }
 ],
 "metadata": {
  "kernelspec": {
   "display_name": "Python 3",
   "language": "python",
   "name": "python3"
  },
  "language_info": {
   "codemirror_mode": {
    "name": "ipython",
    "version": 3
   },
   "file_extension": ".py",
   "mimetype": "text/x-python",
   "name": "python",
   "nbconvert_exporter": "python",
   "pygments_lexer": "ipython3",
   "version": "3.13.7"
  }
 },
 "nbformat": 4,
 "nbformat_minor": 5
}
